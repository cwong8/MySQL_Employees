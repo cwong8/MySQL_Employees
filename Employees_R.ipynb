{
 "cells": [
  {
   "cell_type": "markdown",
   "metadata": {},
   "source": [
    "## MySQL Employees Sample Database\n",
    "Using the MySQL Employees sample database to practice and learn SQL/MySQL before using Python and R to analyze queried data. Information about the database can be found at [https://dev.mysql.com/doc/employee/en/](https://dev.mysql.com/doc/employee/en/). The database can be downloaded at [https://github.com/datacharmer/test_db](https://github.com/datacharmer/test_db)."
   ]
  },
  {
   "cell_type": "markdown",
   "metadata": {},
   "source": [
    "### Tools used\n",
    "- Package dplyr for data manipulation functions such as filter\n",
    "- Packages tseries and forecast for time series analysis functions\n",
    "- Package MASS for the Box Cox transformation function boxcox\n",
    "- Package RMySQL to connect to MySQL database and query\n",
    "- Package ResourceSelection for Hosmer-Lemeshow Goodness of Fit Test (i.e. is our logistic regression model a good fit)"
   ]
  },
  {
   "cell_type": "code",
   "execution_count": 1,
   "metadata": {},
   "outputs": [],
   "source": [
    "# options(scipen = 999) Toggle scientific notation off\n",
    "# Import package dplyr for easier data manipulation\n",
    "library(dplyr, warn.conflicts = FALSE)\n",
    "\n",
    "# Change working directory\n",
    "setwd(\"C:/Users/Christopher Wong/Desktop/employees/\")\n",
    "\n",
    "# If you do not want to use read.table, you can use 'fread' from the package data.table which reads large files such as .csv much quicker than read.table.\n",
    "# Just make sure to convert to dataframe.\n",
    "# Import employee salary data from .csv file used in Tableau\n",
    "employee_salary <- read.table(\"employee_salary.csv\", header = TRUE, sep = \";\")\n",
    "# Order by emp_no and make YEAR.from_date. a factor\n",
    "employee_salary <- employee_salary[order(employee_salary$emp_no), ]\n",
    "employee_salary$YEAR.from_date. <- as.factor(employee_salary$YEAR.from_date.)\n",
    "# Attach to environment\n",
    "attach(employee_salary)"
   ]
  },
  {
   "cell_type": "markdown",
   "metadata": {},
   "source": [
    "### Are there differences in salary between departments? What about between titles?"
   ]
  },
  {
   "cell_type": "markdown",
   "metadata": {},
   "source": [
    "To test this, we can use a one-way ANOVA test with salary being our dependent variable (\"Y\") and departments/titles our independent variable (\"X\"). To use a one-way ANOVA test, we need to satisfy these assumptions:\n",
    "1. Residuals are normally distributed (or approximately normally distributed) or the distributions within groups are normally distributed\n",
    "2. Variances of populations are the same\n",
    "3. Responses are independent and identically distributed (iid)"
   ]
  },
  {
   "cell_type": "code",
   "execution_count": 6,
   "metadata": {},
   "outputs": [
    {
     "data": {
      "image/png": "[encoded data removed]",
      "text/plain": [
       "Plot with title \"Sales\""
      ]
     },
     "metadata": {},
     "output_type": "display_data"
    }
   ],
   "source": [
    "# Change plot settings\n",
    "par(mfrow = c(3, 3))\n",
    "par(mar = c(5.1,1,1,1))\n",
    "\n",
    "### Plot the distributions of salary within groups dept_name\n",
    "# Plot salary distribution within department\n",
    "# NOTE: I did not filter salaries by year because from the Tableau section of this project we see salaries increase at the same rate across years\n",
    "a <- sapply(levels(dept_name), function(x){\n",
    "  plot(density(filter(employee_salary, dept_name == x)$salary), main = x)\n",
    "})"
   ]
  },
  {
   "cell_type": "markdown",
   "metadata": {},
   "source": [
    "We can clearly see the salaries within departments are NOT normally distributed. Thus, we cannot use a parametric one-way ANOVA test. Instead, we can use its nonparametric counterpart: the Kruskal-Wallis H test.\n",
    "\n",
    "The Kruskal-Wallis H test checks whether samples originate from the same distribution.\n",
    "- $H_0:$ The samples come from identical populations\n",
    "- $H_1:$ The samples come from nonidentical populations"
   ]
  },
  {
   "cell_type": "code",
   "execution_count": 10,
   "metadata": {
    "scrolled": true
   },
   "outputs": [
    {
     "data": {
      "text/plain": [
       "\n",
       "\tKruskal-Wallis rank sum test\n",
       "\n",
       "data:  salary by dept_name\n",
       "Kruskal-Wallis chi-squared = 666220, df = 8, p-value < 2.2e-16\n"
      ]
     },
     "metadata": {},
     "output_type": "display_data"
    }
   ],
   "source": [
    "# Testing if distributions of salary within departments are identical\n",
    "kruskal.test(salary~dept_name, data = employee_salary)"
   ]
  },
  {
   "cell_type": "markdown",
   "metadata": {},
   "source": [
    "Our p-value is less than machine precision (2.2e-16) which is essentially 0, so we reject the null hypothesis and conclude that our salaries for different departments come from nonidentical populations. Well, this does not tell us anything we could not have seen from the distributions above, so instead let's use Pairwise Wilcoxon Rank Sum Tests to determine which departments have different distributions."
   ]
  },
  {
   "cell_type": "code",
   "execution_count": 3,
   "metadata": {
    "scrolled": false
   },
   "outputs": [
    {
     "data": {
      "text/plain": [
       "\n",
       "\tPairwise comparisons using Wilcoxon rank sum test \n",
       "\n",
       "data:  salary and dept_name \n",
       "\n",
       "                   Customer Service Development Finance Human Resources\n",
       "Development        < 2e-16          -           -       -              \n",
       "Finance            < 2e-16          < 2e-16     -       -              \n",
       "Human Resources    < 2e-16          < 2e-16     < 2e-16 -              \n",
       "Marketing          < 2e-16          < 2e-16     < 2e-16 < 2e-16        \n",
       "Production         < 2e-16          9.5e-10     < 2e-16 < 2e-16        \n",
       "Quality Management < 2e-16          < 2e-16     < 2e-16 < 2e-16        \n",
       "Research           < 2e-16          9.4e-06     < 2e-16 < 2e-16        \n",
       "Sales              < 2e-16          < 2e-16     < 2e-16 < 2e-16        \n",
       "                   Marketing Production Quality Management Research\n",
       "Development        -         -          -                  -       \n",
       "Finance            -         -          -                  -       \n",
       "Human Resources    -         -          -                  -       \n",
       "Marketing          -         -          -                  -       \n",
       "Production         < 2e-16   -          -                  -       \n",
       "Quality Management < 2e-16   < 2e-16    -                  -       \n",
       "Research           < 2e-16   0.67       < 2e-16            -       \n",
       "Sales              < 2e-16   < 2e-16    < 2e-16            < 2e-16 \n",
       "\n",
       "P value adjustment method: BH "
      ]
     },
     "metadata": {},
     "output_type": "display_data"
    }
   ],
   "source": [
    "# Calculating pairwise comparisons\n",
    "pairwise.wilcox.test(salary, dept_name, data = employee_salary, p.adjust.method = \"BH\")"
   ]
  },
  {
   "cell_type": "markdown",
   "metadata": {},
   "source": [
    "We see that all department pairings EXCEPT Production and Research have significantly different distributions. Let us perform the same analysis using title as a factor now."
   ]
  },
  {
   "cell_type": "code",
   "execution_count": 8,
   "metadata": {
    "scrolled": false
   },
   "outputs": [
    {
     "data": {
      "image/png": "[encoded data removed]",
      "text/plain": [
       "Plot with title \"Technique Leader\""
      ]
     },
     "metadata": {},
     "output_type": "display_data"
    }
   ],
   "source": [
    "# Change plot settings\n",
    "par(mfrow = c(3, 3))\n",
    "par(mar = c(5.1,1,1,1))\n",
    "\n",
    "### Plot the distributions of salary within groups 'title'\n",
    "# Plot salary distribution within titles\n",
    "# NOTE: I did not filter salaries by year because from the Tableau section of this project we see salaries increase at the same rate across years\n",
    "a <- sapply(levels(title), function(x){\n",
    "  plot(density(filter(employee_salary, title == x)$salary), main = x)\n",
    "})"
   ]
  },
  {
   "cell_type": "code",
   "execution_count": 9,
   "metadata": {
    "scrolled": true
   },
   "outputs": [
    {
     "data": {
      "text/plain": [
       "\n",
       "\tKruskal-Wallis rank sum test\n",
       "\n",
       "data:  salary by title\n",
       "Kruskal-Wallis chi-squared = 478650, df = 6, p-value < 2.2e-16\n"
      ]
     },
     "metadata": {},
     "output_type": "display_data"
    }
   ],
   "source": [
    "# Testing if distributions of salary within title are identical\n",
    "kruskal.test(salary~title, data = employee_salary)"
   ]
  },
  {
   "cell_type": "markdown",
   "metadata": {},
   "source": [
    "Our p-value is less than machine precision (2.2e-16) which is essentially 0, so we reject the null hypothesis and conclude that our salaries for different titles come from nonidentical populations. Well, this does not tell us anything we could not have seen from the distributions above, so instead let's use Pairwise Wilcoxon Rank Sum Tests to determine which departments have different distributions."
   ]
  },
  {
   "cell_type": "code",
   "execution_count": 10,
   "metadata": {
    "scrolled": false
   },
   "outputs": [
    {
     "data": {
      "text/plain": [
       "\n",
       "\tPairwise comparisons using Wilcoxon rank sum test \n",
       "\n",
       "data:  salary and title \n",
       "\n",
       "                 Assistant Engineer Engineer Manager Senior Engineer\n",
       "Engineer         < 2e-16            -        -       -              \n",
       "Manager          < 2e-16            < 2e-16  -       -              \n",
       "Senior Engineer  < 2e-16            < 2e-16  0.197   -              \n",
       "Senior Staff     < 2e-16            < 2e-16  1.5e-08 < 2e-16        \n",
       "Staff            < 2e-16            < 2e-16  0.081   < 2e-16        \n",
       "Technique Leader < 2e-16            < 2e-16  6.7e-10 < 2e-16        \n",
       "                 Senior Staff Staff  \n",
       "Engineer         -            -      \n",
       "Manager          -            -      \n",
       "Senior Engineer  -            -      \n",
       "Senior Staff     -            -      \n",
       "Staff            < 2e-16      -      \n",
       "Technique Leader < 2e-16      < 2e-16\n",
       "\n",
       "P value adjustment method: BH "
      ]
     },
     "metadata": {},
     "output_type": "display_data"
    }
   ],
   "source": [
    "# Calculating pairwise comparisons\n",
    "pairwise.wilcox.test(salary, title, data = employee_salary, p.adjust.method = \"BH\")"
   ]
  },
  {
   "cell_type": "markdown",
   "metadata": {},
   "source": [
    "We see that Senior Engineers and Managers have similar salary distributions. This is somewhat expected because senior engineers are valuable assets to a company and thus would be paid similar to other senior roles such as managers.\n",
    "\n",
    "However, there is one surprising pairing here: Staff and Managers. The test says that their distributions are not significantly different (at $\\alpha$ = 0.05). However, we have to consider the sample sizes of our distributions within titles. We have 162 salary data points for managers and hundreds of thousands for other titles. Thus, our test results may not be accurate, and the significance stems from variance within manager salaries."
   ]
  },
  {
   "cell_type": "markdown",
   "metadata": {},
   "source": [
    "### Can we predict the budget for the year 2002?\n",
    "\n",
    "**Warning**: This part is extremely boring and nothing interesting came out of the time series analysis. Our model predicts a flat line, indicating that the company has plateaued and growth is stagnant.\n",
    "\n",
    "Our data for 2002 is incomplete because the sample database cuts off in the middle of the year. This section is a bit lacking because of the way our database was set up. Employee salaries are stored in one year chunks with their yearly salary and the start and end dates. It is possible to partition the data further into monthly salaries, but that may be extrapolation since we would assume monthly salaries are constant for twelve month (i.e. yearly) periods.\n",
    "\n",
    "Personally I don't think that partitioning the data further would help because salaries are a set amount for employees throughout the year. It's not like the company stops paying employees because the seasons changed or anything, and we saw from the MySQL/Python part of this project that employees leaving the company are outnumbered by employees joining the company. Thus, I will analyze salary budgets for this company using years as my data points."
   ]
  },
  {
   "cell_type": "code",
   "execution_count": 6,
   "metadata": {},
   "outputs": [
    {
     "data": {
      "image/png": "[encoded data removed]",
      "text/plain": [
       "plot without title"
      ]
     },
     "metadata": {},
     "output_type": "display_data"
    }
   ],
   "source": [
    "# Import time series packages\n",
    "library(tseries)\n",
    "\n",
    "# Get the yearly salary budgets\n",
    "budgets <- aggregate(salary ~ YEAR.from_date., data = employee_salary, sum)\n",
    "# Remove 2002 because the data is incomplete\n",
    "budgets <- budgets[-nrow(budgets), ]\n",
    "\n",
    "plot.ts(budgets$salary)"
   ]
  },
  {
   "cell_type": "markdown",
   "metadata": {},
   "source": [
    "There is nothing interesting going on in our data at first glance. There is an obvious increasing trend, but there are no fluctuations or obvious seasonality present. Also, since our periods are years, we only have 17 data points."
   ]
  },
  {
   "cell_type": "code",
   "execution_count": 4,
   "metadata": {},
   "outputs": [
    {
     "data": {
      "image/png": "[encoded data removed]",
      "text/plain": [
       "plot without title"
      ]
     },
     "metadata": {},
     "output_type": "display_data"
    }
   ],
   "source": [
    "# Test if a transformation is needed to stabilize fluctuations in the data\n",
    "library(MASS, warn.conflicts = FALSE)\n",
    "a <- boxcox(budgets$salary~1, lambda = seq(-2, 2, 0.001))"
   ]
  },
  {
   "cell_type": "code",
   "execution_count": 5,
   "metadata": {
    "scrolled": false
   },
   "outputs": [
    {
     "data": {
      "text/html": [
       "-18.0754250127712"
      ],
      "text/latex": [
       "-18.0754250127712"
      ],
      "text/markdown": [
       "-18.0754250127712"
      ],
      "text/plain": [
       "[1] -18.07543"
      ]
     },
     "metadata": {},
     "output_type": "display_data"
    },
    {
     "data": {
      "text/html": [
       "-17.9812577605597"
      ],
      "text/latex": [
       "-17.9812577605597"
      ],
      "text/markdown": [
       "-17.9812577605597"
      ],
      "text/plain": [
       "[1] -17.98126"
      ]
     },
     "metadata": {},
     "output_type": "display_data"
    }
   ],
   "source": [
    "# Lambda = 1, do not have to transform. But only slightly better\n",
    "a$y[a$x == 0.5]\n",
    "a$y[a$x == 1]"
   ]
  },
  {
   "cell_type": "code",
   "execution_count": 7,
   "metadata": {
    "scrolled": true
   },
   "outputs": [
    {
     "ename": "ERROR",
     "evalue": "Error in decompose(ts(budgets$salary, frequency = 1)): time series has no or less than 2 periods\n",
     "output_type": "error",
     "traceback": [
      "Error in decompose(ts(budgets$salary, frequency = 1)): time series has no or less than 2 periods\nTraceback:\n",
      "1. decompose(ts(budgets$salary, frequency = 1))",
      "2. stop(\"time series has no or less than 2 periods\")"
     ]
    }
   ],
   "source": [
    "# Decompose the time series data\n",
    "decompose(ts(budgets$salary, frequency = 1))"
   ]
  },
  {
   "cell_type": "markdown",
   "metadata": {},
   "source": [
    "The decompose function cannot find any components of a time series in our data (trend, seasonal, errors). This is why this section is not interesting."
   ]
  },
  {
   "cell_type": "code",
   "execution_count": 9,
   "metadata": {
    "scrolled": true
   },
   "outputs": [
    {
     "data": {
      "text/plain": [
       "Series: budgets$salary \n",
       "ARIMA(0,2,0) \n",
       "\n",
       "sigma^2 estimated as 7.978e+16:  log likelihood=-313.17\n",
       "AIC=628.34   AICc=628.65   BIC=629.05"
      ]
     },
     "metadata": {},
     "output_type": "display_data"
    }
   ],
   "source": [
    "# Fitting an ARIMA model\n",
    "mod <- auto.arima(budgets$salary)\n",
    "mod"
   ]
  },
  {
   "cell_type": "markdown",
   "metadata": {},
   "source": [
    "We see that our the best ARIMA model for our data has no autoregressive (AR) or moving average (MA) components. That is, our data points are not dependent on previous data points and there is no smoothing required from a moving average since our data has no fluctuations. The auto.arima function fit a second-order differencing model to our data to obtain a stationary time series.\n",
    "\n",
    "- $y_t^* = y_t - 2y_{t-1} + y_{t-2}$\n",
    "\n",
    "To put our model into perspective, a white noise model is given by ARIMA(0,0,0) and a random walk is given by ARIMA(0,1,0). With this in mind, we expect our forecast to be a horizontal line."
   ]
  },
  {
   "cell_type": "code",
   "execution_count": 10,
   "metadata": {
    "scrolled": false
   },
   "outputs": [
    {
     "data": {
      "image/png": "[encoded data removed]",
      "text/plain": [
       "Plot with title \"Forecasts from ARIMA(0,2,0)\""
      ]
     },
     "metadata": {},
     "output_type": "display_data"
    }
   ],
   "source": [
    "# Forecasting\n",
    "library(forecast)\n",
    "fcast <- forecast(mod)\n",
    "plot(fcast)"
   ]
  },
  {
   "cell_type": "markdown",
   "metadata": {},
   "source": [
    "### Modeling employee promotions using logistic regression\n",
    "In the MySQL/Python section of this project, we explored employee promotions visually. Now, we want to try to model them using logistic regression. The variables I chose to model against are gender, dept_name, and title. I leave out days_to_promotion because I created a binary variable promotion_binary based on whether days_to_promotion was a non-null value, and I am using promotion_binary as my response variable."
   ]
  },
  {
   "cell_type": "code",
   "execution_count": 14,
   "metadata": {},
   "outputs": [],
   "source": [
    "# options(scipen = 999) Toggle scientific notation off\n",
    "# Import RMySQL to connect to our database, replace \"yourusername\" and \"yourpassword\"\n",
    "library(RMySQL, warn.conflicts = FALSE)\n",
    "con <- dbConnect(dbDriver(\"MySQL\"), user = \"yourusername\", password = \"yourpassword\", dbname = \"employees\")\n",
    "\n",
    "# Promotions model\n",
    "promotions <- dbGetQuery(con, \"SELECT emp_no, gender, dept_name, title, IF (a.days_to_promotion IS NULL, 0, 1) AS promotion_binary\n",
    "FROM\n",
    "(SELECT employees.emp_no, employees.gender, departments.dept_name, IF (promotions.hire_title IS NOT NULL, promotions.hire_title, titles.title) AS title, TIMESTAMPDIFF(DAY, promotions.hire_date, promotions.promotion_date) AS days_to_promotion\n",
    "FROM employees JOIN dept_emp ON employees.emp_no = dept_emp.emp_no JOIN departments ON dept_emp.dept_no = departments.dept_no JOIN titles ON employees.emp_no = titles.emp_no LEFT JOIN promotions ON employees.emp_no = promotions.emp_no\n",
    "GROUP BY employees.emp_no) AS a;\")"
   ]
  },
  {
   "cell_type": "markdown",
   "metadata": {},
   "source": [
    "We will use stepwise regression to build our logistic regression model."
   ]
  },
  {
   "cell_type": "code",
   "execution_count": 16,
   "metadata": {},
   "outputs": [
    {
     "data": {
      "text/plain": [
       "\n",
       "Call:  glm(formula = promotion_binary ~ title, family = binomial(link = logit), \n",
       "    data = promotions)\n",
       "\n",
       "Coefficients:\n",
       "          (Intercept)          titleEngineer           titleManager  \n",
       "             0.465387              -0.009761              13.100679  \n",
       " titleSenior Engineer      titleSenior Staff             titleStaff  \n",
       "           -10.775904              -9.043976               0.011662  \n",
       "titleTechnique Leader  \n",
       "            -9.397864  \n",
       "\n",
       "Degrees of Freedom: 300023 Total (i.e. Null);  300017 Residual\n",
       "Null Deviance:\t    414700 \n",
       "Residual Deviance: 304500 \tAIC: 304500"
      ]
     },
     "metadata": {},
     "output_type": "display_data"
    }
   ],
   "source": [
    "# Empty and full models\n",
    "nothing <- glm(promotion_binary~1 - emp_no, data = promotions, family = binomial(link = logit))\n",
    "full <- glm(promotion_binary~. - emp_no, data = promotions, family = binomial(link = logit))\n",
    "\n",
    "# Stepwise regression forwards and backwards\n",
    "forwards <- step(nothing, scope = list(lower = formula(nothing), upper = formula(full)), direction = \"forward\", trace = FALSE)\n",
    "backwards <- step(full, scope = list(lower = formula(nothing), upper = formula(full)), direction = \"backward\", trace = FALSE)\n",
    "\n",
    "# Same model for forwards and backwards stepwise regression\n",
    "final.model <- forwards\n",
    "final.model"
   ]
  },
  {
   "cell_type": "markdown",
   "metadata": {},
   "source": [
    "Our final model uses all titles at the company except Assistant Engineer. This confirms our visual analysis in the MySQL/Python section that gender does not affect an employee's promotion potential. We also see that departments are the same; an employee's promotion potential does not depend on their gender, age, or department.\n",
    "\n",
    "Let's now interpret our model and conditional odds ratios."
   ]
  },
  {
   "cell_type": "code",
   "execution_count": 33,
   "metadata": {
    "scrolled": true
   },
   "outputs": [
    {
     "data": {
      "text/html": [
       "<dl class=dl-horizontal>\n",
       "\t<dt>titleEngineer</dt>\n",
       "\t\t<dd>0.990286868832037</dd>\n",
       "\t<dt>titleSenior Engineer</dt>\n",
       "\t\t<dd>0.0000208970268074274</dd>\n",
       "\t<dt>titleSenior Staff</dt>\n",
       "\t\t<dd>0.000118100282453444</dd>\n",
       "\t<dt>titleStaff</dt>\n",
       "\t\t<dd>1.01173010640294</dd>\n",
       "\t<dt>titleTechnique Leader</dt>\n",
       "\t\t<dd>0.0000829009719687825</dd>\n",
       "</dl>\n"
      ],
      "text/latex": [
       "\\begin{description*}\n",
       "\\item[titleEngineer] 0.990286868832037\n",
       "\\item[titleSenior Engineer] 0.0000208970268074274\n",
       "\\item[titleSenior Staff] 0.000118100282453444\n",
       "\\item[titleStaff] 1.01173010640294\n",
       "\\item[titleTechnique Leader] 0.0000829009719687825\n",
       "\\end{description*}\n"
      ],
      "text/markdown": [
       "titleEngineer\n",
       ":   0.990286868832037titleSenior Engineer\n",
       ":   0.0000208970268074274titleSenior Staff\n",
       ":   0.000118100282453444titleStaff\n",
       ":   1.01173010640294titleTechnique Leader\n",
       ":   0.0000829009719687825\n",
       "\n"
      ],
      "text/plain": [
       "        titleEngineer  titleSenior Engineer     titleSenior Staff \n",
       "        0.99028686883         0.00002089703         0.00011810028 \n",
       "           titleStaff titleTechnique Leader \n",
       "        1.01173010640         0.00008290097 "
      ]
     },
     "metadata": {},
     "output_type": "display_data"
    }
   ],
   "source": [
    "# Odds ratios\n",
    "est.coef <- coef(final.model)\n",
    "est.coef.se <- summary(final.model)$coefficients[, \"Std. Error\"]\n",
    "odds <- exp(est.coef[-which(names(est.coef) == \"(Intercept)\")])\n",
    "odds"
   ]
  },
  {
   "cell_type": "code",
   "execution_count": 34,
   "metadata": {
    "scrolled": true
   },
   "outputs": [
    {
     "data": {
      "text/html": [
       "<table>\n",
       "<thead><tr><th></th><th scope=col>lower</th><th scope=col>upper</th></tr></thead>\n",
       "<tbody>\n",
       "\t<tr><th scope=row>titleEngineer</th><td>9.562291e-01</td><td>1.0255576344</td></tr>\n",
       "\t<tr><th scope=row>titleSenior Engineer</th><td>2.947778e-06</td><td>0.0001481406</td></tr>\n",
       "\t<tr><th scope=row>titleSenior Staff</th><td>4.912175e-05</td><td>0.0002839409</td></tr>\n",
       "\t<tr><th scope=row>titleStaff</th><td>9.769579e-01</td><td>1.0477399601</td></tr>\n",
       "\t<tr><th scope=row>titleTechnique Leader</th><td>2.072290e-05</td><td>0.0003316414</td></tr>\n",
       "</tbody>\n",
       "</table>\n"
      ],
      "text/latex": [
       "\\begin{tabular}{r|ll}\n",
       "  & lower & upper\\\\\n",
       "\\hline\n",
       "\ttitleEngineer & 9.562291e-01 & 1.0255576344\\\\\n",
       "\ttitleSenior Engineer & 2.947778e-06 & 0.0001481406\\\\\n",
       "\ttitleSenior Staff & 4.912175e-05 & 0.0002839409\\\\\n",
       "\ttitleStaff & 9.769579e-01 & 1.0477399601\\\\\n",
       "\ttitleTechnique Leader & 2.072290e-05 & 0.0003316414\\\\\n",
       "\\end{tabular}\n"
      ],
      "text/markdown": [
       "\n",
       "| <!--/--> | lower | upper | \n",
       "|---|---|---|---|---|\n",
       "| titleEngineer | 9.562291e-01 | 1.0255576344 | \n",
       "| titleSenior Engineer | 2.947778e-06 | 0.0001481406 | \n",
       "| titleSenior Staff | 4.912175e-05 | 0.0002839409 | \n",
       "| titleStaff | 9.769579e-01 | 1.0477399601 | \n",
       "| titleTechnique Leader | 2.072290e-05 | 0.0003316414 | \n",
       "\n",
       "\n"
      ],
      "text/plain": [
       "                      lower        upper       \n",
       "titleEngineer         9.562291e-01 1.0255576344\n",
       "titleSenior Engineer  2.947778e-06 0.0001481406\n",
       "titleSenior Staff     4.912175e-05 0.0002839409\n",
       "titleStaff            9.769579e-01 1.0477399601\n",
       "titleTechnique Leader 2.072290e-05 0.0003316414"
      ]
     },
     "metadata": {},
     "output_type": "display_data"
    }
   ],
   "source": [
    "# Odds ratio confidence intervals\n",
    "odds.CI <- data.frame(lower = exp(est.coef[-which(names(est.coef) == \"(Intercept)\")]-1.96*est.coef.se[-which(names(est.coef) == \"(Intercept)\")]),\n",
    "                      upper = exp(est.coef[-which(names(est.coef) == \"(Intercept)\")]+1.96*est.coef.se[-which(names(est.coef) == \"(Intercept)\")]))\n",
    "odds.CI"
   ]
  },
  {
   "cell_type": "markdown",
   "metadata": {},
   "source": [
    "We see an abnormality in one of our odds ratios: Manager. Its odds ratio confidence interval is also extremely large, indicating that something is amiss in our data for employee promotions with the Manager title."
   ]
  },
  {
   "cell_type": "code",
   "execution_count": 35,
   "metadata": {
    "scrolled": false
   },
   "outputs": [
    {
     "data": {
      "text/html": [
       "<table>\n",
       "<thead><tr><th scope=col>emp_no</th><th scope=col>gender</th><th scope=col>dept_name</th><th scope=col>title</th><th scope=col>promotion_binary</th></tr></thead>\n",
       "<tbody>\n",
       "\t<tr><td>110022            </td><td>M                 </td><td>Marketing         </td><td>Manager           </td><td>1                 </td></tr>\n",
       "\t<tr><td>110085            </td><td>M                 </td><td>Finance           </td><td>Manager           </td><td>1                 </td></tr>\n",
       "\t<tr><td>110183            </td><td>F                 </td><td>Human Resources   </td><td>Manager           </td><td>1                 </td></tr>\n",
       "\t<tr><td>110303            </td><td>F                 </td><td>Production        </td><td>Manager           </td><td>1                 </td></tr>\n",
       "\t<tr><td>110344            </td><td>F                 </td><td>Production        </td><td>Manager           </td><td>1                 </td></tr>\n",
       "\t<tr><td>110386            </td><td>M                 </td><td>Production        </td><td>Manager           </td><td>1                 </td></tr>\n",
       "\t<tr><td>110511            </td><td>M                 </td><td>Development       </td><td>Manager           </td><td>1                 </td></tr>\n",
       "\t<tr><td>110725            </td><td>F                 </td><td>Quality Management</td><td>Manager           </td><td>1                 </td></tr>\n",
       "\t<tr><td>110765            </td><td>F                 </td><td>Quality Management</td><td>Manager           </td><td>1                 </td></tr>\n",
       "\t<tr><td>110800            </td><td>F                 </td><td>Quality Management</td><td>Manager           </td><td>1                 </td></tr>\n",
       "\t<tr><td>111035            </td><td>M                 </td><td>Sales             </td><td>Manager           </td><td>1                 </td></tr>\n",
       "\t<tr><td>111400            </td><td>M                 </td><td>Research          </td><td>Manager           </td><td>1                 </td></tr>\n",
       "\t<tr><td>111692            </td><td>F                 </td><td>Customer Service  </td><td>Manager           </td><td>1                 </td></tr>\n",
       "\t<tr><td>111784            </td><td>F                 </td><td>Customer Service  </td><td>Manager           </td><td>1                 </td></tr>\n",
       "\t<tr><td>111877            </td><td>F                 </td><td>Customer Service  </td><td>Manager           </td><td>1                 </td></tr>\n",
       "</tbody>\n",
       "</table>\n"
      ],
      "text/latex": [
       "\\begin{tabular}{r|lllll}\n",
       " emp\\_no & gender & dept\\_name & title & promotion\\_binary\\\\\n",
       "\\hline\n",
       "\t 110022             & M                  & Marketing          & Manager            & 1                 \\\\\n",
       "\t 110085             & M                  & Finance            & Manager            & 1                 \\\\\n",
       "\t 110183             & F                  & Human Resources    & Manager            & 1                 \\\\\n",
       "\t 110303             & F                  & Production         & Manager            & 1                 \\\\\n",
       "\t 110344             & F                  & Production         & Manager            & 1                 \\\\\n",
       "\t 110386             & M                  & Production         & Manager            & 1                 \\\\\n",
       "\t 110511             & M                  & Development        & Manager            & 1                 \\\\\n",
       "\t 110725             & F                  & Quality Management & Manager            & 1                 \\\\\n",
       "\t 110765             & F                  & Quality Management & Manager            & 1                 \\\\\n",
       "\t 110800             & F                  & Quality Management & Manager            & 1                 \\\\\n",
       "\t 111035             & M                  & Sales              & Manager            & 1                 \\\\\n",
       "\t 111400             & M                  & Research           & Manager            & 1                 \\\\\n",
       "\t 111692             & F                  & Customer Service   & Manager            & 1                 \\\\\n",
       "\t 111784             & F                  & Customer Service   & Manager            & 1                 \\\\\n",
       "\t 111877             & F                  & Customer Service   & Manager            & 1                 \\\\\n",
       "\\end{tabular}\n"
      ],
      "text/markdown": [
       "\n",
       "emp_no | gender | dept_name | title | promotion_binary | \n",
       "|---|---|---|---|---|---|---|---|---|---|---|---|---|---|---|\n",
       "| 110022             | M                  | Marketing          | Manager            | 1                  | \n",
       "| 110085             | M                  | Finance            | Manager            | 1                  | \n",
       "| 110183             | F                  | Human Resources    | Manager            | 1                  | \n",
       "| 110303             | F                  | Production         | Manager            | 1                  | \n",
       "| 110344             | F                  | Production         | Manager            | 1                  | \n",
       "| 110386             | M                  | Production         | Manager            | 1                  | \n",
       "| 110511             | M                  | Development        | Manager            | 1                  | \n",
       "| 110725             | F                  | Quality Management | Manager            | 1                  | \n",
       "| 110765             | F                  | Quality Management | Manager            | 1                  | \n",
       "| 110800             | F                  | Quality Management | Manager            | 1                  | \n",
       "| 111035             | M                  | Sales              | Manager            | 1                  | \n",
       "| 111400             | M                  | Research           | Manager            | 1                  | \n",
       "| 111692             | F                  | Customer Service   | Manager            | 1                  | \n",
       "| 111784             | F                  | Customer Service   | Manager            | 1                  | \n",
       "| 111877             | F                  | Customer Service   | Manager            | 1                  | \n",
       "\n",
       "\n"
      ],
      "text/plain": [
       "   emp_no gender dept_name          title   promotion_binary\n",
       "1  110022 M      Marketing          Manager 1               \n",
       "2  110085 M      Finance            Manager 1               \n",
       "3  110183 F      Human Resources    Manager 1               \n",
       "4  110303 F      Production         Manager 1               \n",
       "5  110344 F      Production         Manager 1               \n",
       "6  110386 M      Production         Manager 1               \n",
       "7  110511 M      Development        Manager 1               \n",
       "8  110725 F      Quality Management Manager 1               \n",
       "9  110765 F      Quality Management Manager 1               \n",
       "10 110800 F      Quality Management Manager 1               \n",
       "11 111035 M      Sales              Manager 1               \n",
       "12 111400 M      Research           Manager 1               \n",
       "13 111692 F      Customer Service   Manager 1               \n",
       "14 111784 F      Customer Service   Manager 1               \n",
       "15 111877 F      Customer Service   Manager 1               "
      ]
     },
     "metadata": {},
     "output_type": "display_data"
    }
   ],
   "source": [
    "# Investigate Manager promotions\n",
    "filter(promotions, title == \"Manager\")"
   ]
  },
  {
   "cell_type": "markdown",
   "metadata": {},
   "source": [
    "This is why our Manager variable has such a large odds ratio. All managers in this company have been promoted! On top of that, there are only a handful of managers compared to the number of employees. Thus, we will rerun our model with managers removed."
   ]
  },
  {
   "cell_type": "code",
   "execution_count": 27,
   "metadata": {},
   "outputs": [
    {
     "data": {
      "text/plain": [
       "\n",
       "Call:  glm(formula = promotion_binary ~ title, family = binomial(link = logit), \n",
       "    data = promotions_no_managers)\n",
       "\n",
       "Coefficients:\n",
       "          (Intercept)          titleEngineer   titleSenior Engineer  \n",
       "             0.465387              -0.009761             -10.775904  \n",
       "    titleSenior Staff             titleStaff  titleTechnique Leader  \n",
       "            -9.043976               0.011662              -9.397864  \n",
       "\n",
       "Degrees of Freedom: 300008 Total (i.e. Null);  300003 Residual\n",
       "Null Deviance:\t    414600 \n",
       "Residual Deviance: 304500 \tAIC: 304500"
      ]
     },
     "metadata": {},
     "output_type": "display_data"
    }
   ],
   "source": [
    "# Taking out managers\n",
    "promotions_no_managers <- filter(promotions, title != \"Manager\")\n",
    "\n",
    "# Empty and full models\n",
    "nothing <- glm(promotion_binary~1 - emp_no, data = promotions_no_managers, family = binomial(link = logit))\n",
    "full <- glm(promotion_binary~. - emp_no, data = promotions_no_managers, family = binomial(link = logit))\n",
    "\n",
    "# Stepwise regression forwards and backwards\n",
    "forwards <- step(nothing, scope = list(lower = formula(nothing), upper = formula(full)), direction = \"forward\", trace = FALSE)\n",
    "backwards <- step(full, scope = list(lower = formula(nothing), upper = formula(full)), direction = \"backward\", trace = FALSE)\n",
    "\n",
    "# Same model for forwards and backwards stepwise regression\n",
    "final.model <- forwards\n",
    "final.model"
   ]
  },
  {
   "cell_type": "code",
   "execution_count": 36,
   "metadata": {},
   "outputs": [
    {
     "data": {
      "text/html": [
       "<dl class=dl-horizontal>\n",
       "\t<dt>titleEngineer</dt>\n",
       "\t\t<dd>0.990286868832037</dd>\n",
       "\t<dt>titleSenior Engineer</dt>\n",
       "\t\t<dd>0.0000208970268074274</dd>\n",
       "\t<dt>titleSenior Staff</dt>\n",
       "\t\t<dd>0.000118100282453444</dd>\n",
       "\t<dt>titleStaff</dt>\n",
       "\t\t<dd>1.01173010640294</dd>\n",
       "\t<dt>titleTechnique Leader</dt>\n",
       "\t\t<dd>0.0000829009719687825</dd>\n",
       "</dl>\n"
      ],
      "text/latex": [
       "\\begin{description*}\n",
       "\\item[titleEngineer] 0.990286868832037\n",
       "\\item[titleSenior Engineer] 0.0000208970268074274\n",
       "\\item[titleSenior Staff] 0.000118100282453444\n",
       "\\item[titleStaff] 1.01173010640294\n",
       "\\item[titleTechnique Leader] 0.0000829009719687825\n",
       "\\end{description*}\n"
      ],
      "text/markdown": [
       "titleEngineer\n",
       ":   0.990286868832037titleSenior Engineer\n",
       ":   0.0000208970268074274titleSenior Staff\n",
       ":   0.000118100282453444titleStaff\n",
       ":   1.01173010640294titleTechnique Leader\n",
       ":   0.0000829009719687825\n",
       "\n"
      ],
      "text/plain": [
       "        titleEngineer  titleSenior Engineer     titleSenior Staff \n",
       "        0.99028686883         0.00002089703         0.00011810028 \n",
       "           titleStaff titleTechnique Leader \n",
       "        1.01173010640         0.00008290097 "
      ]
     },
     "metadata": {},
     "output_type": "display_data"
    }
   ],
   "source": [
    "# Odds ratios\n",
    "est.coef <- coef(final.model)\n",
    "est.coef.se <- summary(final.model)$coefficients[, \"Std. Error\"]\n",
    "odds <- exp(est.coef[-which(names(est.coef) == \"(Intercept)\")])\n",
    "odds"
   ]
  },
  {
   "cell_type": "code",
   "execution_count": 29,
   "metadata": {
    "scrolled": false
   },
   "outputs": [
    {
     "data": {
      "text/html": [
       "<table>\n",
       "<thead><tr><th></th><th scope=col>lower</th><th scope=col>upper</th></tr></thead>\n",
       "<tbody>\n",
       "\t<tr><th scope=row>titleEngineer</th><td>0.956229128088</td><td>1.0255576344  </td></tr>\n",
       "\t<tr><th scope=row>titleSenior Engineer</th><td>0.000002947778</td><td>0.0001481406  </td></tr>\n",
       "\t<tr><th scope=row>titleSenior Staff</th><td>0.000049121752</td><td>0.0002839409  </td></tr>\n",
       "\t<tr><th scope=row>titleStaff</th><td>0.976957878089</td><td>1.0477399601  </td></tr>\n",
       "\t<tr><th scope=row>titleTechnique Leader</th><td>0.000020722902</td><td>0.0003316414  </td></tr>\n",
       "</tbody>\n",
       "</table>\n"
      ],
      "text/latex": [
       "\\begin{tabular}{r|ll}\n",
       "  & lower & upper\\\\\n",
       "\\hline\n",
       "\ttitleEngineer & 0.956229128088 & 1.0255576344  \\\\\n",
       "\ttitleSenior Engineer & 0.000002947778 & 0.0001481406  \\\\\n",
       "\ttitleSenior Staff & 0.000049121752 & 0.0002839409  \\\\\n",
       "\ttitleStaff & 0.976957878089 & 1.0477399601  \\\\\n",
       "\ttitleTechnique Leader & 0.000020722902 & 0.0003316414  \\\\\n",
       "\\end{tabular}\n"
      ],
      "text/markdown": [
       "\n",
       "| <!--/--> | lower | upper | \n",
       "|---|---|---|---|---|\n",
       "| titleEngineer | 0.956229128088 | 1.0255576344   | \n",
       "| titleSenior Engineer | 0.000002947778 | 0.0001481406   | \n",
       "| titleSenior Staff | 0.000049121752 | 0.0002839409   | \n",
       "| titleStaff | 0.976957878089 | 1.0477399601   | \n",
       "| titleTechnique Leader | 0.000020722902 | 0.0003316414   | \n",
       "\n",
       "\n"
      ],
      "text/plain": [
       "                      lower          upper       \n",
       "titleEngineer         0.956229128088 1.0255576344\n",
       "titleSenior Engineer  0.000002947778 0.0001481406\n",
       "titleSenior Staff     0.000049121752 0.0002839409\n",
       "titleStaff            0.976957878089 1.0477399601\n",
       "titleTechnique Leader 0.000020722902 0.0003316414"
      ]
     },
     "metadata": {},
     "output_type": "display_data"
    }
   ],
   "source": [
    "# Odds ratio confidence intervals\n",
    "odds.CI <- data.frame(lower = exp(est.coef[-which(names(est.coef) == \"(Intercept)\")]-1.96*est.coef.se[-which(names(est.coef) == \"(Intercept)\")]),\n",
    "                      upper = exp(est.coef[-which(names(est.coef) == \"(Intercept)\")]+1.96*est.coef.se[-which(names(est.coef) == \"(Intercept)\")]))\n",
    "odds.CI"
   ]
  },
  {
   "cell_type": "markdown",
   "metadata": {},
   "source": [
    "We see that the odds ratio confidence intervals for Engineer and Staff both contain 1, so we cannot be confident (at $\\alpha$ = 0.05) that having the title of Engineer or Staff improves an employee's odds of being promoted. However, compared to the other titles, the odds are much better. But this can be explained by logical reasoning: senior positions are not likely to be promoted, being the highest positions in this company."
   ]
  },
  {
   "cell_type": "code",
   "execution_count": 37,
   "metadata": {},
   "outputs": [
    {
     "data": {
      "text/plain": [
       "\n",
       "\tHosmer and Lemeshow goodness of fit (GOF) test\n",
       "\n",
       "data:  promotions_no_managers$promotion_binary, fitted(final.model)\n",
       "X-squared = 3.1885e-13, df = 8, p-value = 1\n"
      ]
     },
     "metadata": {},
     "output_type": "display_data"
    }
   ],
   "source": [
    "# Checking model fit\n",
    "library(ResourceSelection)                                      \n",
    "hoslem.test(promotions_no_managers$promotion_binary, fitted(final.model))"
   ]
  },
  {
   "cell_type": "markdown",
   "metadata": {},
   "source": [
    "**Conclusion**: Our analysis gave us some further insights into employee promotions, but we cannot pinpoint exactly what variables are responsible for them. Our data is insufficient for deeper analysis because we cannot see things such as employee performance metrics.\n",
    "\n",
    "We could probably test employee days at the company as a variable for promotion, but the problem is how we would handle employees who have never been promoted. Do we keep their days_to_promotion as NULL, or insert an extremely large value like 9999 days but that throws off our data. We also used this variable to create a binary promotion variable that we used as our response variable above, and having the variable as a predictor and response simultaneously seems iffy.\n",
    "\n",
    "However, it is important to note that this is a (relatively) clean sample database which was made to practice on, so we should not expect to perform any complex delves into the data."
   ]
  }
 ],
 "metadata": {
  "kernelspec": {
   "display_name": "R [conda env:R]",
   "language": "R",
   "name": "conda-env-R-r"
  },
  "language_info": {
   "codemirror_mode": "r",
   "file_extension": ".r",
   "mimetype": "text/x-r-source",
   "name": "R",
   "pygments_lexer": "r",
   "version": "3.5.1"
  }
 },
 "nbformat": 4,
 "nbformat_minor": 2
}
