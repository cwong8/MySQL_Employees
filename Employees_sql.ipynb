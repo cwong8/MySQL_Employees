{
 "cells": [
  {
   "cell_type": "markdown",
   "metadata": {},
   "source": [
    "## MySQL Employees Sample Database\n",
    "Using the MySQL Employees sample database to practice and learn SQL/MySQL before using Python and R to analyze queried data. Information about the database can be found at [https://dev.mysql.com/doc/employee/en/](https://dev.mysql.com/doc/employee/en/). The database can be downloaded at [https://github.com/datacharmer/test_db](https://github.com/datacharmer/test_db)."
   ]
  },
  {
   "cell_type": "markdown",
   "metadata": {},
   "source": [
    "### Tools used\n",
    "- Package pandas for dataframes and functions such as read_sql_query\n",
    "- Package numpy for general math functions\n",
    "- Package MySQLdb to connect to MySQL\n",
    "- Package scipy.stats for statistical testing\n",
    "- Packages matplotlib and seaborn for plotting"
   ]
  },
  {
   "cell_type": "markdown",
   "metadata": {},
   "source": [
    "Creating a connection to MySQL, replace \"yourusername\" and \"yourpassword\" with the username/password to your MySQL."
   ]
  },
  {
   "cell_type": "code",
   "execution_count": 11,
   "metadata": {},
   "outputs": [],
   "source": [
    "import os\n",
    "import pandas as pd\n",
    "import numpy as np\n",
    "import scipy.stats as stats\n",
    "import matplotlib.pyplot as plt\n",
    "import seaborn as sns\n",
    "\n",
    "# Server connection to MySQL:\n",
    "import MySQLdb\n",
    "conn = MySQLdb.connect(host= \"localhost\",\n",
    "                  user=\"yourusername\",\n",
    "                  passwd=\"yourpassword\",\n",
    "                  db=\"employees\")\n",
    "\n",
    "x = conn.cursor()"
   ]
  },
  {
   "cell_type": "markdown",
   "metadata": {},
   "source": [
    "### Employee promotions\n",
    "In this section, I answer some questions regarding promotions within this fictional company.\n",
    "1. How many promotions were given? To how many employees?\n",
    "2. Has any employee been promoted more than once? What is the maximum times an employee has been promoted?\n",
    "3. How many employees were never promoted or left before being promoted?\n",
    "4. What is the average time before an employee is promoted? Is there noticeable discrimination based on gender or age?"
   ]
  },
  {
   "cell_type": "markdown",
   "metadata": {},
   "source": [
    "In MySQL I created a view named Promotions that I will reference but views cannot be created in Python:\n",
    "```\n",
    "CREATE OR REPLACE VIEW Promotions AS\n",
    "SELECT employees.emp_no, birth_date, first_name, last_name, gender, a.from_date AS hire_date, a.title AS hire_title, a.to_date AS promotion_date, b.title AS promoted_to, b.to_date AS end_date\n",
    "FROM employees JOIN titles a ON employees.emp_no = a.emp_no JOIN titles b ON a.emp_no = b.emp_no\n",
    "WHERE a.to_date = b.from_date AND a.title != b.title;\n",
    "```"
   ]
  },
  {
   "cell_type": "markdown",
   "metadata": {},
   "source": [
    "##### 1. How many promotions were given? To how many employees?"
   ]
  },
  {
   "cell_type": "code",
   "execution_count": 10,
   "metadata": {},
   "outputs": [
    {
     "data": {
      "text/html": [
       "<div>\n",
       "<style scoped>\n",
       "    .dataframe tbody tr th:only-of-type {\n",
       "        vertical-align: middle;\n",
       "    }\n",
       "\n",
       "    .dataframe tbody tr th {\n",
       "        vertical-align: top;\n",
       "    }\n",
       "\n",
       "    .dataframe thead th {\n",
       "        text-align: right;\n",
       "    }\n",
       "</style>\n",
       "<table border=\"1\" class=\"dataframe\">\n",
       "  <thead>\n",
       "    <tr style=\"text-align: right;\">\n",
       "      <th></th>\n",
       "      <th>emp_no</th>\n",
       "      <th>birth_date</th>\n",
       "      <th>first_name</th>\n",
       "      <th>last_name</th>\n",
       "      <th>gender</th>\n",
       "      <th>hire_date</th>\n",
       "      <th>hire_title</th>\n",
       "      <th>promotion_date</th>\n",
       "      <th>promoted_to</th>\n",
       "      <th>end_date</th>\n",
       "    </tr>\n",
       "  </thead>\n",
       "  <tbody>\n",
       "    <tr>\n",
       "      <th>0</th>\n",
       "      <td>10004</td>\n",
       "      <td>1954-05-01</td>\n",
       "      <td>Chirstian</td>\n",
       "      <td>Koblick</td>\n",
       "      <td>M</td>\n",
       "      <td>1986-12-01</td>\n",
       "      <td>Engineer</td>\n",
       "      <td>1995-12-01</td>\n",
       "      <td>Senior Engineer</td>\n",
       "      <td>9999-01-01</td>\n",
       "    </tr>\n",
       "    <tr>\n",
       "      <th>1</th>\n",
       "      <td>10005</td>\n",
       "      <td>1955-01-21</td>\n",
       "      <td>Kyoichi</td>\n",
       "      <td>Maliniak</td>\n",
       "      <td>M</td>\n",
       "      <td>1989-09-12</td>\n",
       "      <td>Staff</td>\n",
       "      <td>1996-09-12</td>\n",
       "      <td>Senior Staff</td>\n",
       "      <td>9999-01-01</td>\n",
       "    </tr>\n",
       "    <tr>\n",
       "      <th>2</th>\n",
       "      <td>10007</td>\n",
       "      <td>1957-05-23</td>\n",
       "      <td>Tzvetan</td>\n",
       "      <td>Zielinski</td>\n",
       "      <td>F</td>\n",
       "      <td>1989-02-10</td>\n",
       "      <td>Staff</td>\n",
       "      <td>1996-02-11</td>\n",
       "      <td>Senior Staff</td>\n",
       "      <td>9999-01-01</td>\n",
       "    </tr>\n",
       "    <tr>\n",
       "      <th>3</th>\n",
       "      <td>10009</td>\n",
       "      <td>1952-04-19</td>\n",
       "      <td>Sumant</td>\n",
       "      <td>Peac</td>\n",
       "      <td>F</td>\n",
       "      <td>1985-02-18</td>\n",
       "      <td>Assistant Engineer</td>\n",
       "      <td>1990-02-18</td>\n",
       "      <td>Engineer</td>\n",
       "      <td>1995-02-18</td>\n",
       "    </tr>\n",
       "    <tr>\n",
       "      <th>4</th>\n",
       "      <td>10009</td>\n",
       "      <td>1952-04-19</td>\n",
       "      <td>Sumant</td>\n",
       "      <td>Peac</td>\n",
       "      <td>F</td>\n",
       "      <td>1990-02-18</td>\n",
       "      <td>Engineer</td>\n",
       "      <td>1995-02-18</td>\n",
       "      <td>Senior Engineer</td>\n",
       "      <td>9999-01-01</td>\n",
       "    </tr>\n",
       "  </tbody>\n",
       "</table>\n",
       "</div>"
      ],
      "text/plain": [
       "   emp_no  birth_date first_name  last_name gender   hire_date  \\\n",
       "0   10004  1954-05-01  Chirstian    Koblick      M  1986-12-01   \n",
       "1   10005  1955-01-21    Kyoichi   Maliniak      M  1989-09-12   \n",
       "2   10007  1957-05-23    Tzvetan  Zielinski      F  1989-02-10   \n",
       "3   10009  1952-04-19     Sumant       Peac      F  1985-02-18   \n",
       "4   10009  1952-04-19     Sumant       Peac      F  1990-02-18   \n",
       "\n",
       "           hire_title promotion_date      promoted_to    end_date  \n",
       "0            Engineer     1995-12-01  Senior Engineer  9999-01-01  \n",
       "1               Staff     1996-09-12     Senior Staff  9999-01-01  \n",
       "2               Staff     1996-02-11     Senior Staff  9999-01-01  \n",
       "3  Assistant Engineer     1990-02-18         Engineer  1995-02-18  \n",
       "4            Engineer     1995-02-18  Senior Engineer  9999-01-01  "
      ]
     },
     "execution_count": 10,
     "metadata": {},
     "output_type": "execute_result"
    }
   ],
   "source": [
    "### Finding all promotions\n",
    "promotions = pd.read_sql_query(\"\"\"\n",
    "SELECT employees.emp_no, birth_date, first_name, last_name, gender, a.from_date AS hire_date, a.title AS hire_title, a.to_date AS promotion_date, b.title AS promoted_to, b.to_date AS end_date\n",
    "FROM employees JOIN titles a ON employees.emp_no = a.emp_no JOIN titles b ON a.emp_no = b.emp_no\n",
    "WHERE a.to_date = b.from_date AND a.title != b.title;\n",
    "\"\"\", conn)\n",
    "promotions.head()"
   ]
  },
  {
   "cell_type": "markdown",
   "metadata": {},
   "source": [
    "Notice how some employees have been promoted more than once (emp_no = 10009)"
   ]
  },
  {
   "cell_type": "code",
   "execution_count": 11,
   "metadata": {
    "scrolled": true
   },
   "outputs": [
    {
     "data": {
      "text/html": [
       "<div>\n",
       "<style scoped>\n",
       "    .dataframe tbody tr th:only-of-type {\n",
       "        vertical-align: middle;\n",
       "    }\n",
       "\n",
       "    .dataframe tbody tr th {\n",
       "        vertical-align: top;\n",
       "    }\n",
       "\n",
       "    .dataframe thead th {\n",
       "        text-align: right;\n",
       "    }\n",
       "</style>\n",
       "<table border=\"1\" class=\"dataframe\">\n",
       "  <thead>\n",
       "    <tr style=\"text-align: right;\">\n",
       "      <th></th>\n",
       "      <th>COUNT(*)</th>\n",
       "    </tr>\n",
       "  </thead>\n",
       "  <tbody>\n",
       "    <tr>\n",
       "      <th>0</th>\n",
       "      <td>143284</td>\n",
       "    </tr>\n",
       "  </tbody>\n",
       "</table>\n",
       "</div>"
      ],
      "text/plain": [
       "   COUNT(*)\n",
       "0    143284"
      ]
     },
     "execution_count": 11,
     "metadata": {},
     "output_type": "execute_result"
    }
   ],
   "source": [
    "### Number of promotions\n",
    "pd.read_sql_query(\"\"\"\n",
    "SELECT COUNT(*)\n",
    "FROM Promotions;\n",
    "\"\"\", conn)"
   ]
  },
  {
   "cell_type": "code",
   "execution_count": 12,
   "metadata": {},
   "outputs": [
    {
     "data": {
      "text/html": [
       "<div>\n",
       "<style scoped>\n",
       "    .dataframe tbody tr th:only-of-type {\n",
       "        vertical-align: middle;\n",
       "    }\n",
       "\n",
       "    .dataframe tbody tr th {\n",
       "        vertical-align: top;\n",
       "    }\n",
       "\n",
       "    .dataframe thead th {\n",
       "        text-align: right;\n",
       "    }\n",
       "</style>\n",
       "<table border=\"1\" class=\"dataframe\">\n",
       "  <thead>\n",
       "    <tr style=\"text-align: right;\">\n",
       "      <th></th>\n",
       "      <th>COUNT(DISTINCT(emp_no))</th>\n",
       "    </tr>\n",
       "  </thead>\n",
       "  <tbody>\n",
       "    <tr>\n",
       "      <th>0</th>\n",
       "      <td>140270</td>\n",
       "    </tr>\n",
       "  </tbody>\n",
       "</table>\n",
       "</div>"
      ],
      "text/plain": [
       "   COUNT(DISTINCT(emp_no))\n",
       "0                   140270"
      ]
     },
     "execution_count": 12,
     "metadata": {},
     "output_type": "execute_result"
    }
   ],
   "source": [
    "### Number of employees who received promotions\n",
    "pd.read_sql_query(\"\"\"\n",
    "SELECT COUNT(DISTINCT(emp_no))\n",
    "FROM Promotions;\n",
    "\"\"\", conn)"
   ]
  },
  {
   "cell_type": "markdown",
   "metadata": {},
   "source": [
    "We find that 143,294 promotions were given by this company to 140,270 employees. There are more promotions given than employees which leads into the next question."
   ]
  },
  {
   "cell_type": "markdown",
   "metadata": {},
   "source": [
    "##### 2. Has any employee been promoted more than once? What is the maximum times an employee has been promoted?"
   ]
  },
  {
   "cell_type": "code",
   "execution_count": 13,
   "metadata": {},
   "outputs": [
    {
     "data": {
      "text/html": [
       "<div>\n",
       "<style scoped>\n",
       "    .dataframe tbody tr th:only-of-type {\n",
       "        vertical-align: middle;\n",
       "    }\n",
       "\n",
       "    .dataframe tbody tr th {\n",
       "        vertical-align: top;\n",
       "    }\n",
       "\n",
       "    .dataframe thead th {\n",
       "        text-align: right;\n",
       "    }\n",
       "</style>\n",
       "<table border=\"1\" class=\"dataframe\">\n",
       "  <thead>\n",
       "    <tr style=\"text-align: right;\">\n",
       "      <th></th>\n",
       "      <th>emp_no</th>\n",
       "      <th>times_promoted</th>\n",
       "    </tr>\n",
       "  </thead>\n",
       "  <tbody>\n",
       "    <tr>\n",
       "      <th>0</th>\n",
       "      <td>10009</td>\n",
       "      <td>2</td>\n",
       "    </tr>\n",
       "    <tr>\n",
       "      <th>1</th>\n",
       "      <td>10066</td>\n",
       "      <td>2</td>\n",
       "    </tr>\n",
       "    <tr>\n",
       "      <th>2</th>\n",
       "      <td>10258</td>\n",
       "      <td>2</td>\n",
       "    </tr>\n",
       "    <tr>\n",
       "      <th>3</th>\n",
       "      <td>10451</td>\n",
       "      <td>2</td>\n",
       "    </tr>\n",
       "    <tr>\n",
       "      <th>4</th>\n",
       "      <td>10571</td>\n",
       "      <td>2</td>\n",
       "    </tr>\n",
       "  </tbody>\n",
       "</table>\n",
       "</div>"
      ],
      "text/plain": [
       "   emp_no  times_promoted\n",
       "0   10009               2\n",
       "1   10066               2\n",
       "2   10258               2\n",
       "3   10451               2\n",
       "4   10571               2"
      ]
     },
     "execution_count": 13,
     "metadata": {},
     "output_type": "execute_result"
    }
   ],
   "source": [
    "### Finding employees who have been promoted more than once\n",
    "df = pd.read_sql_query(\"\"\"\n",
    "SELECT emp_no, COUNT(emp_no) AS times_promoted\n",
    "FROM Promotions\n",
    "GROUP BY emp_no\n",
    "HAVING COUNT(*) > 1\n",
    "\"\"\", conn)\n",
    "df.head()"
   ]
  },
  {
   "cell_type": "code",
   "execution_count": 16,
   "metadata": {},
   "outputs": [
    {
     "data": {
      "text/html": [
       "<div>\n",
       "<style scoped>\n",
       "    .dataframe tbody tr th:only-of-type {\n",
       "        vertical-align: middle;\n",
       "    }\n",
       "\n",
       "    .dataframe tbody tr th {\n",
       "        vertical-align: top;\n",
       "    }\n",
       "\n",
       "    .dataframe thead th {\n",
       "        text-align: right;\n",
       "    }\n",
       "</style>\n",
       "<table border=\"1\" class=\"dataframe\">\n",
       "  <thead>\n",
       "    <tr style=\"text-align: right;\">\n",
       "      <th></th>\n",
       "      <th>COUNT(*)</th>\n",
       "    </tr>\n",
       "  </thead>\n",
       "  <tbody>\n",
       "    <tr>\n",
       "      <th>0</th>\n",
       "      <td>3014</td>\n",
       "    </tr>\n",
       "  </tbody>\n",
       "</table>\n",
       "</div>"
      ],
      "text/plain": [
       "   COUNT(*)\n",
       "0      3014"
      ]
     },
     "execution_count": 16,
     "metadata": {},
     "output_type": "execute_result"
    }
   ],
   "source": [
    "### Finding how many employees were promoted more than once\n",
    "pd.read_sql_query(\"\"\"\n",
    "SELECT COUNT(*)\n",
    "FROM\n",
    "(SELECT emp_no, COUNT(emp_no) AS times_promoted\n",
    "FROM Promotions\n",
    "GROUP BY emp_no\n",
    "HAVING COUNT(*) > 1) AS a;\n",
    "\"\"\", conn)"
   ]
  },
  {
   "cell_type": "code",
   "execution_count": 14,
   "metadata": {},
   "outputs": [
    {
     "data": {
      "text/html": [
       "<div>\n",
       "<style scoped>\n",
       "    .dataframe tbody tr th:only-of-type {\n",
       "        vertical-align: middle;\n",
       "    }\n",
       "\n",
       "    .dataframe tbody tr th {\n",
       "        vertical-align: top;\n",
       "    }\n",
       "\n",
       "    .dataframe thead th {\n",
       "        text-align: right;\n",
       "    }\n",
       "</style>\n",
       "<table border=\"1\" class=\"dataframe\">\n",
       "  <thead>\n",
       "    <tr style=\"text-align: right;\">\n",
       "      <th></th>\n",
       "      <th>MAX(times_promoted)</th>\n",
       "    </tr>\n",
       "  </thead>\n",
       "  <tbody>\n",
       "    <tr>\n",
       "      <th>0</th>\n",
       "      <td>2</td>\n",
       "    </tr>\n",
       "  </tbody>\n",
       "</table>\n",
       "</div>"
      ],
      "text/plain": [
       "   MAX(times_promoted)\n",
       "0                    2"
      ]
     },
     "execution_count": 14,
     "metadata": {},
     "output_type": "execute_result"
    }
   ],
   "source": [
    "### Finding the maximum number of promotions by a single employee\n",
    "pd.read_sql_query(\"\"\"\n",
    "SELECT MAX(times_promoted)\n",
    "FROM \n",
    "(SELECT emp_no, COUNT(emp_no) AS times_promoted\n",
    "FROM Promotions\n",
    "GROUP BY emp_no\n",
    "HAVING COUNT(*) > 1) AS a;\n",
    "\"\"\", conn)"
   ]
  },
  {
   "cell_type": "markdown",
   "metadata": {},
   "source": [
    "We find that 3,014 employees have been promoted twice, and that no employees have ever been promoted three times."
   ]
  },
  {
   "cell_type": "markdown",
   "metadata": {},
   "source": [
    "##### 3. How many employees were never promoted or left before being promoted?"
   ]
  },
  {
   "cell_type": "code",
   "execution_count": 17,
   "metadata": {},
   "outputs": [
    {
     "data": {
      "text/html": [
       "<div>\n",
       "<style scoped>\n",
       "    .dataframe tbody tr th:only-of-type {\n",
       "        vertical-align: middle;\n",
       "    }\n",
       "\n",
       "    .dataframe tbody tr th {\n",
       "        vertical-align: top;\n",
       "    }\n",
       "\n",
       "    .dataframe thead th {\n",
       "        text-align: right;\n",
       "    }\n",
       "</style>\n",
       "<table border=\"1\" class=\"dataframe\">\n",
       "  <thead>\n",
       "    <tr style=\"text-align: right;\">\n",
       "      <th></th>\n",
       "      <th>emp_no</th>\n",
       "      <th>birth_date</th>\n",
       "      <th>first_name</th>\n",
       "      <th>last_name</th>\n",
       "      <th>gender</th>\n",
       "      <th>hire_date</th>\n",
       "      <th>title</th>\n",
       "      <th>from_date</th>\n",
       "      <th>to_date</th>\n",
       "    </tr>\n",
       "  </thead>\n",
       "  <tbody>\n",
       "    <tr>\n",
       "      <th>0</th>\n",
       "      <td>10001</td>\n",
       "      <td>1953-09-02</td>\n",
       "      <td>Georgi</td>\n",
       "      <td>Facello</td>\n",
       "      <td>M</td>\n",
       "      <td>1986-06-26</td>\n",
       "      <td>Senior Engineer</td>\n",
       "      <td>1986-06-26</td>\n",
       "      <td>9999-01-01</td>\n",
       "    </tr>\n",
       "    <tr>\n",
       "      <th>1</th>\n",
       "      <td>10002</td>\n",
       "      <td>1964-06-02</td>\n",
       "      <td>Bezalel</td>\n",
       "      <td>Simmel</td>\n",
       "      <td>F</td>\n",
       "      <td>1985-11-21</td>\n",
       "      <td>Staff</td>\n",
       "      <td>1996-08-03</td>\n",
       "      <td>9999-01-01</td>\n",
       "    </tr>\n",
       "    <tr>\n",
       "      <th>2</th>\n",
       "      <td>10003</td>\n",
       "      <td>1959-12-03</td>\n",
       "      <td>Parto</td>\n",
       "      <td>Bamford</td>\n",
       "      <td>M</td>\n",
       "      <td>1986-08-28</td>\n",
       "      <td>Senior Engineer</td>\n",
       "      <td>1995-12-03</td>\n",
       "      <td>9999-01-01</td>\n",
       "    </tr>\n",
       "    <tr>\n",
       "      <th>3</th>\n",
       "      <td>10006</td>\n",
       "      <td>1953-04-20</td>\n",
       "      <td>Anneke</td>\n",
       "      <td>Preusig</td>\n",
       "      <td>F</td>\n",
       "      <td>1989-06-02</td>\n",
       "      <td>Senior Engineer</td>\n",
       "      <td>1990-08-05</td>\n",
       "      <td>9999-01-01</td>\n",
       "    </tr>\n",
       "    <tr>\n",
       "      <th>4</th>\n",
       "      <td>10008</td>\n",
       "      <td>1958-02-19</td>\n",
       "      <td>Saniya</td>\n",
       "      <td>Kalloufi</td>\n",
       "      <td>M</td>\n",
       "      <td>1994-09-15</td>\n",
       "      <td>Assistant Engineer</td>\n",
       "      <td>1998-03-11</td>\n",
       "      <td>2000-07-31</td>\n",
       "    </tr>\n",
       "  </tbody>\n",
       "</table>\n",
       "</div>"
      ],
      "text/plain": [
       "   emp_no  birth_date first_name last_name gender   hire_date  \\\n",
       "0   10001  1953-09-02     Georgi   Facello      M  1986-06-26   \n",
       "1   10002  1964-06-02    Bezalel    Simmel      F  1985-11-21   \n",
       "2   10003  1959-12-03      Parto   Bamford      M  1986-08-28   \n",
       "3   10006  1953-04-20     Anneke   Preusig      F  1989-06-02   \n",
       "4   10008  1958-02-19     Saniya  Kalloufi      M  1994-09-15   \n",
       "\n",
       "                title   from_date     to_date  \n",
       "0     Senior Engineer  1986-06-26  9999-01-01  \n",
       "1               Staff  1996-08-03  9999-01-01  \n",
       "2     Senior Engineer  1995-12-03  9999-01-01  \n",
       "3     Senior Engineer  1990-08-05  9999-01-01  \n",
       "4  Assistant Engineer  1998-03-11  2000-07-31  "
      ]
     },
     "execution_count": 17,
     "metadata": {},
     "output_type": "execute_result"
    }
   ],
   "source": [
    "### Finding all employees who have never been promoted or left before a promotion\n",
    "df = pd.read_sql_query(\"\"\"\n",
    "SELECT employees.emp_no, birth_date, first_name, last_name, gender, hire_date, title, from_date, to_date\n",
    "FROM employees JOIN titles ON employees.emp_no = titles.emp_no\n",
    "GROUP BY employees.emp_no\n",
    "HAVING COUNT(employees.emp_no) = 1;\n",
    "\"\"\", conn)\n",
    "df.head()"
   ]
  },
  {
   "cell_type": "code",
   "execution_count": 19,
   "metadata": {
    "scrolled": true
   },
   "outputs": [
    {
     "data": {
      "text/html": [
       "<div>\n",
       "<style scoped>\n",
       "    .dataframe tbody tr th:only-of-type {\n",
       "        vertical-align: middle;\n",
       "    }\n",
       "\n",
       "    .dataframe tbody tr th {\n",
       "        vertical-align: top;\n",
       "    }\n",
       "\n",
       "    .dataframe thead th {\n",
       "        text-align: right;\n",
       "    }\n",
       "</style>\n",
       "<table border=\"1\" class=\"dataframe\">\n",
       "  <thead>\n",
       "    <tr style=\"text-align: right;\">\n",
       "      <th></th>\n",
       "      <th>COUNT(*)</th>\n",
       "    </tr>\n",
       "  </thead>\n",
       "  <tbody>\n",
       "    <tr>\n",
       "      <th>0</th>\n",
       "      <td>159754</td>\n",
       "    </tr>\n",
       "  </tbody>\n",
       "</table>\n",
       "</div>"
      ],
      "text/plain": [
       "   COUNT(*)\n",
       "0    159754"
      ]
     },
     "execution_count": 19,
     "metadata": {},
     "output_type": "execute_result"
    }
   ],
   "source": [
    "### Finding how many employees that have never been promoted or left before a promotion\n",
    "pd.read_sql_query(\"\"\"\n",
    "SELECT COUNT(*)\n",
    "FROM\n",
    "(SELECT employees.emp_no, birth_date, first_name, last_name, gender, hire_date, title, from_date, to_date\n",
    "FROM employees JOIN titles ON employees.emp_no = titles.emp_no\n",
    "GROUP BY employees.emp_no\n",
    "HAVING COUNT(employees.emp_no) = 1) AS a;\n",
    "\"\"\", conn)"
   ]
  },
  {
   "cell_type": "markdown",
   "metadata": {},
   "source": [
    "We find that 159,754 employees have never been promoted or left before a promotion."
   ]
  },
  {
   "cell_type": "markdown",
   "metadata": {},
   "source": [
    "##### 4. What is the average time before an employee is promoted? Is there noticeable discrimination based on gender or age?"
   ]
  },
  {
   "cell_type": "code",
   "execution_count": 25,
   "metadata": {},
   "outputs": [
    {
     "data": {
      "text/html": [
       "<div>\n",
       "<style scoped>\n",
       "    .dataframe tbody tr th:only-of-type {\n",
       "        vertical-align: middle;\n",
       "    }\n",
       "\n",
       "    .dataframe tbody tr th {\n",
       "        vertical-align: top;\n",
       "    }\n",
       "\n",
       "    .dataframe thead th {\n",
       "        text-align: right;\n",
       "    }\n",
       "</style>\n",
       "<table border=\"1\" class=\"dataframe\">\n",
       "  <thead>\n",
       "    <tr style=\"text-align: right;\">\n",
       "      <th></th>\n",
       "      <th>emp_no</th>\n",
       "      <th>gender</th>\n",
       "      <th>days_to_promotion</th>\n",
       "    </tr>\n",
       "  </thead>\n",
       "  <tbody>\n",
       "    <tr>\n",
       "      <th>0</th>\n",
       "      <td>10004</td>\n",
       "      <td>M</td>\n",
       "      <td>3287</td>\n",
       "    </tr>\n",
       "    <tr>\n",
       "      <th>1</th>\n",
       "      <td>10005</td>\n",
       "      <td>M</td>\n",
       "      <td>2557</td>\n",
       "    </tr>\n",
       "    <tr>\n",
       "      <th>2</th>\n",
       "      <td>10007</td>\n",
       "      <td>F</td>\n",
       "      <td>2557</td>\n",
       "    </tr>\n",
       "    <tr>\n",
       "      <th>3</th>\n",
       "      <td>10009</td>\n",
       "      <td>F</td>\n",
       "      <td>1826</td>\n",
       "    </tr>\n",
       "    <tr>\n",
       "      <th>4</th>\n",
       "      <td>10009</td>\n",
       "      <td>F</td>\n",
       "      <td>1826</td>\n",
       "    </tr>\n",
       "  </tbody>\n",
       "</table>\n",
       "</div>"
      ],
      "text/plain": [
       "   emp_no gender  days_to_promotion\n",
       "0   10004      M               3287\n",
       "1   10005      M               2557\n",
       "2   10007      F               2557\n",
       "3   10009      F               1826\n",
       "4   10009      F               1826"
      ]
     },
     "execution_count": 25,
     "metadata": {},
     "output_type": "execute_result"
    }
   ],
   "source": [
    "### Finding the time before an employee is promoted\n",
    "df = pd.read_sql_query(\"\"\"\n",
    "SELECT emp_no, gender, TIMESTAMPDIFF(DAY, hire_date, promotion_date) AS days_to_promotion\n",
    "FROM promotions;\n",
    "\"\"\", conn)\n",
    "df.head()"
   ]
  },
  {
   "cell_type": "code",
   "execution_count": 23,
   "metadata": {},
   "outputs": [
    {
     "data": {
      "text/html": [
       "<div>\n",
       "<style scoped>\n",
       "    .dataframe tbody tr th:only-of-type {\n",
       "        vertical-align: middle;\n",
       "    }\n",
       "\n",
       "    .dataframe tbody tr th {\n",
       "        vertical-align: top;\n",
       "    }\n",
       "\n",
       "    .dataframe thead th {\n",
       "        text-align: right;\n",
       "    }\n",
       "</style>\n",
       "<table border=\"1\" class=\"dataframe\">\n",
       "  <thead>\n",
       "    <tr style=\"text-align: right;\">\n",
       "      <th></th>\n",
       "      <th>gender</th>\n",
       "      <th>AVG(days_to_promotion)</th>\n",
       "    </tr>\n",
       "  </thead>\n",
       "  <tbody>\n",
       "    <tr>\n",
       "      <th>0</th>\n",
       "      <td>M</td>\n",
       "      <td>2473.6378</td>\n",
       "    </tr>\n",
       "    <tr>\n",
       "      <th>1</th>\n",
       "      <td>F</td>\n",
       "      <td>2469.7197</td>\n",
       "    </tr>\n",
       "  </tbody>\n",
       "</table>\n",
       "</div>"
      ],
      "text/plain": [
       "  gender  AVG(days_to_promotion)\n",
       "0      M               2473.6378\n",
       "1      F               2469.7197"
      ]
     },
     "execution_count": 23,
     "metadata": {},
     "output_type": "execute_result"
    }
   ],
   "source": [
    "### Grouping on gender and taking the average\n",
    "pd.read_sql_query(\"\"\"\n",
    "SELECT gender, AVG(days_to_promotion)\n",
    "FROM\n",
    "(SELECT emp_no, gender, TIMESTAMPDIFF(DAY, hire_date, promotion_date) AS days_to_promotion\n",
    "FROM promotions) AS a\n",
    "GROUP BY gender;\n",
    "\"\"\", conn)"
   ]
  },
  {
   "cell_type": "markdown",
   "metadata": {},
   "source": [
    "Let us visualize the distributions of days until promotion for males and females."
   ]
  },
  {
   "cell_type": "code",
   "execution_count": 58,
   "metadata": {
    "scrolled": true
   },
   "outputs": [
    {
     "data": {
      "text/plain": [
       "<matplotlib.axes._subplots.AxesSubplot at 0x22ea5ff19b0>"
      ]
     },
     "execution_count": 58,
     "metadata": {},
     "output_type": "execute_result"
    },
    {
     "data": {
      "image/png": "[encoded data removed]",
      "text/plain": [
       "<Figure size 432x288 with 1 Axes>"
      ]
     },
     "metadata": {},
     "output_type": "display_data"
    }
   ],
   "source": [
    "# Group by gender\n",
    "df1 = df.groupby(['gender'])\n",
    "\n",
    "# Plot density plots\n",
    "sns.kdeplot(df1.get_group('F')['days_to_promotion'])\n",
    "sns.kdeplot(df1.get_group('M')['days_to_promotion'])"
   ]
  },
  {
   "cell_type": "markdown",
   "metadata": {},
   "source": [
    "We see they have roughly the same distribution and similar peaks, leading me to conclude that there is no discrimination between genders. Something to note is that some employees have the same number of days before a promotion (e.g. emp_no = 10005 and 10007) and the number of days is very close to a multiple of days in a year (365 days approximately). This leads me to believe that employees are promoted on or near their hire dates, most likely at their yearly reviews."
   ]
  },
  {
   "cell_type": "code",
   "execution_count": 4,
   "metadata": {},
   "outputs": [
    {
     "data": {
      "text/html": [
       "<div>\n",
       "<style scoped>\n",
       "    .dataframe tbody tr th:only-of-type {\n",
       "        vertical-align: middle;\n",
       "    }\n",
       "\n",
       "    .dataframe tbody tr th {\n",
       "        vertical-align: top;\n",
       "    }\n",
       "\n",
       "    .dataframe thead th {\n",
       "        text-align: right;\n",
       "    }\n",
       "</style>\n",
       "<table border=\"1\" class=\"dataframe\">\n",
       "  <thead>\n",
       "    <tr style=\"text-align: right;\">\n",
       "      <th></th>\n",
       "      <th>emp_no</th>\n",
       "      <th>gender</th>\n",
       "      <th>birth_date</th>\n",
       "      <th>promotion_date</th>\n",
       "      <th>age_at_promotion</th>\n",
       "    </tr>\n",
       "  </thead>\n",
       "  <tbody>\n",
       "    <tr>\n",
       "      <th>0</th>\n",
       "      <td>10004</td>\n",
       "      <td>M</td>\n",
       "      <td>1954-05-01</td>\n",
       "      <td>1995-12-01</td>\n",
       "      <td>41</td>\n",
       "    </tr>\n",
       "    <tr>\n",
       "      <th>1</th>\n",
       "      <td>10005</td>\n",
       "      <td>M</td>\n",
       "      <td>1955-01-21</td>\n",
       "      <td>1996-09-12</td>\n",
       "      <td>41</td>\n",
       "    </tr>\n",
       "    <tr>\n",
       "      <th>2</th>\n",
       "      <td>10007</td>\n",
       "      <td>F</td>\n",
       "      <td>1957-05-23</td>\n",
       "      <td>1996-02-11</td>\n",
       "      <td>38</td>\n",
       "    </tr>\n",
       "    <tr>\n",
       "      <th>3</th>\n",
       "      <td>10009</td>\n",
       "      <td>F</td>\n",
       "      <td>1952-04-19</td>\n",
       "      <td>1990-02-18</td>\n",
       "      <td>37</td>\n",
       "    </tr>\n",
       "    <tr>\n",
       "      <th>4</th>\n",
       "      <td>10009</td>\n",
       "      <td>F</td>\n",
       "      <td>1952-04-19</td>\n",
       "      <td>1995-02-18</td>\n",
       "      <td>42</td>\n",
       "    </tr>\n",
       "  </tbody>\n",
       "</table>\n",
       "</div>"
      ],
      "text/plain": [
       "   emp_no gender  birth_date promotion_date  age_at_promotion\n",
       "0   10004      M  1954-05-01     1995-12-01                41\n",
       "1   10005      M  1955-01-21     1996-09-12                41\n",
       "2   10007      F  1957-05-23     1996-02-11                38\n",
       "3   10009      F  1952-04-19     1990-02-18                37\n",
       "4   10009      F  1952-04-19     1995-02-18                42"
      ]
     },
     "execution_count": 4,
     "metadata": {},
     "output_type": "execute_result"
    }
   ],
   "source": [
    "### Finding the age of employees when they were promoted\n",
    "df = pd.read_sql_query(\"\"\"\n",
    "SELECT emp_no, gender, birth_date, promotion_date, TIMESTAMPDIFF(YEAR, birth_date, promotion_date) AS age_at_promotion\n",
    "FROM promotions;\n",
    "\"\"\", conn)\n",
    "df.head()"
   ]
  },
  {
   "cell_type": "code",
   "execution_count": 6,
   "metadata": {},
   "outputs": [
    {
     "data": {
      "text/html": [
       "<div>\n",
       "<style scoped>\n",
       "    .dataframe tbody tr th:only-of-type {\n",
       "        vertical-align: middle;\n",
       "    }\n",
       "\n",
       "    .dataframe tbody tr th {\n",
       "        vertical-align: top;\n",
       "    }\n",
       "\n",
       "    .dataframe thead th {\n",
       "        text-align: right;\n",
       "    }\n",
       "</style>\n",
       "<table border=\"1\" class=\"dataframe\">\n",
       "  <thead>\n",
       "    <tr style=\"text-align: right;\">\n",
       "      <th></th>\n",
       "      <th>gender</th>\n",
       "      <th>AVG(age_at_promotion)</th>\n",
       "    </tr>\n",
       "  </thead>\n",
       "  <tbody>\n",
       "    <tr>\n",
       "      <th>0</th>\n",
       "      <td>M</td>\n",
       "      <td>38.1015</td>\n",
       "    </tr>\n",
       "    <tr>\n",
       "      <th>1</th>\n",
       "      <td>F</td>\n",
       "      <td>38.0952</td>\n",
       "    </tr>\n",
       "  </tbody>\n",
       "</table>\n",
       "</div>"
      ],
      "text/plain": [
       "  gender  AVG(age_at_promotion)\n",
       "0      M                38.1015\n",
       "1      F                38.0952"
      ]
     },
     "execution_count": 6,
     "metadata": {},
     "output_type": "execute_result"
    }
   ],
   "source": [
    "### Grouping on gender and taking the average\n",
    "pd.read_sql_query(\"\"\"\n",
    "SELECT gender, AVG(age_at_promotion)\n",
    "FROM \n",
    "(SELECT emp_no, gender, birth_date, promotion_date, TIMESTAMPDIFF(YEAR, birth_date, promotion_date) AS age_at_promotion\n",
    "FROM promotions) AS a\n",
    "GROUP BY gender;\n",
    "\"\"\", conn)"
   ]
  },
  {
   "cell_type": "markdown",
   "metadata": {},
   "source": [
    "Let us visualize the distributions of ages of promoted employees for males and females."
   ]
  },
  {
   "cell_type": "code",
   "execution_count": 8,
   "metadata": {},
   "outputs": [
    {
     "data": {
      "text/plain": [
       "<matplotlib.axes._subplots.AxesSubplot at 0x1a2a4e077b8>"
      ]
     },
     "execution_count": 8,
     "metadata": {},
     "output_type": "execute_result"
    },
    {
     "data": {
      "image/png": "[encoded data removed]",
      "text/plain": [
       "<Figure size 432x288 with 1 Axes>"
      ]
     },
     "metadata": {},
     "output_type": "display_data"
    }
   ],
   "source": [
    "# Group by gender\n",
    "df2 = df.groupby(['gender'])\n",
    "\n",
    "# Plot density plots\n",
    "sns.kdeplot(df2.get_group('F')['age_at_promotion'])\n",
    "sns.kdeplot(df2.get_group('M')['age_at_promotion'])"
   ]
  },
  {
   "cell_type": "markdown",
   "metadata": {},
   "source": [
    "We see a much nicer and parametric distribution compared to the distribution of days until promotions. This bell curve distribution shape implies a Gaussian/normal distribution which we can test for. Assumption for a normality test such as the Shapiro-Wilk test are that observations are independent and identically distributed (iid) which is a fair assumption given observations are different employees for the most part. Some employees show up multiple times because they were promoted more than once (e.g. emp_no = 10009). We can obtain the first promotion for employees with multiple promotions by grouping on their employee id."
   ]
  },
  {
   "cell_type": "code",
   "execution_count": 14,
   "metadata": {},
   "outputs": [
    {
     "data": {
      "text/html": [
       "<div>\n",
       "<style scoped>\n",
       "    .dataframe tbody tr th:only-of-type {\n",
       "        vertical-align: middle;\n",
       "    }\n",
       "\n",
       "    .dataframe tbody tr th {\n",
       "        vertical-align: top;\n",
       "    }\n",
       "\n",
       "    .dataframe thead th {\n",
       "        text-align: right;\n",
       "    }\n",
       "</style>\n",
       "<table border=\"1\" class=\"dataframe\">\n",
       "  <thead>\n",
       "    <tr style=\"text-align: right;\">\n",
       "      <th></th>\n",
       "      <th>emp_no</th>\n",
       "      <th>gender</th>\n",
       "      <th>birth_date</th>\n",
       "      <th>promotion_date</th>\n",
       "      <th>age_at_promotion</th>\n",
       "    </tr>\n",
       "  </thead>\n",
       "  <tbody>\n",
       "    <tr>\n",
       "      <th>0</th>\n",
       "      <td>10004</td>\n",
       "      <td>M</td>\n",
       "      <td>1954-05-01</td>\n",
       "      <td>1995-12-01</td>\n",
       "      <td>41</td>\n",
       "    </tr>\n",
       "    <tr>\n",
       "      <th>1</th>\n",
       "      <td>10005</td>\n",
       "      <td>M</td>\n",
       "      <td>1955-01-21</td>\n",
       "      <td>1996-09-12</td>\n",
       "      <td>41</td>\n",
       "    </tr>\n",
       "    <tr>\n",
       "      <th>2</th>\n",
       "      <td>10007</td>\n",
       "      <td>F</td>\n",
       "      <td>1957-05-23</td>\n",
       "      <td>1996-02-11</td>\n",
       "      <td>38</td>\n",
       "    </tr>\n",
       "    <tr>\n",
       "      <th>3</th>\n",
       "      <td>10009</td>\n",
       "      <td>F</td>\n",
       "      <td>1952-04-19</td>\n",
       "      <td>1990-02-18</td>\n",
       "      <td>37</td>\n",
       "    </tr>\n",
       "    <tr>\n",
       "      <th>4</th>\n",
       "      <td>10012</td>\n",
       "      <td>M</td>\n",
       "      <td>1960-10-04</td>\n",
       "      <td>2000-12-18</td>\n",
       "      <td>40</td>\n",
       "    </tr>\n",
       "  </tbody>\n",
       "</table>\n",
       "</div>"
      ],
      "text/plain": [
       "   emp_no gender  birth_date promotion_date  age_at_promotion\n",
       "0   10004      M  1954-05-01     1995-12-01                41\n",
       "1   10005      M  1955-01-21     1996-09-12                41\n",
       "2   10007      F  1957-05-23     1996-02-11                38\n",
       "3   10009      F  1952-04-19     1990-02-18                37\n",
       "4   10012      M  1960-10-04     2000-12-18                40"
      ]
     },
     "execution_count": 14,
     "metadata": {},
     "output_type": "execute_result"
    }
   ],
   "source": [
    "# Group on emp_no to obtain the age at first promotion for all employees\n",
    "df = pd.read_sql_query(\"\"\"\n",
    "SELECT emp_no, gender, birth_date, promotion_date, TIMESTAMPDIFF(YEAR, birth_date, promotion_date) AS age_at_promotion\n",
    "FROM promotions\n",
    "GROUP BY emp_no;\n",
    "\"\"\", conn)\n",
    "df.head()"
   ]
  },
  {
   "cell_type": "code",
   "execution_count": 27,
   "metadata": {},
   "outputs": [
    {
     "data": {
      "text/plain": [
       "{'gender': ['M', 'F'], 'p-values': [0.0, 0.0]}"
      ]
     },
     "execution_count": 27,
     "metadata": {},
     "output_type": "execute_result"
    }
   ],
   "source": [
    "# Testing for normality\n",
    "stat, pF = stats.normaltest(df.groupby('gender').get_group('F')['age_at_promotion'])\n",
    "stat, pM = stats.normaltest(df.groupby('gender').get_group('M')['age_at_promotion'])\n",
    "{'gender': ['M', 'F'], 'p-values': [pM, pF]}"
   ]
  },
  {
   "cell_type": "code",
   "execution_count": 21,
   "metadata": {
    "scrolled": false
   },
   "outputs": [
    {
     "data": {
      "image/png": "[encoded data removed]",
      "text/plain": [
       "<Figure size 432x288 with 1 Axes>"
      ]
     },
     "metadata": {},
     "output_type": "display_data"
    }
   ],
   "source": [
    "# Quantile-quantile (qq) plot of the residuals\n",
    "res = stats.probplot(df2.get_group('F')['age_at_promotion'], plot = plt)"
   ]
  },
  {
   "cell_type": "markdown",
   "metadata": {},
   "source": [
    "We see that our p-values for both genders is 0 so we reject our null hypothesis that the distribution is normal and conclude that our distribution is not Gaussian/normal. We can see from the above qq-plot that the tails of our distribution are non-existent. This means the company is not promoting (or hiring) anyone who is under a minimum age or above a maximum age (i.e. they do not promote (or hire) teenagers or people close to retirement age)."
   ]
  },
  {
   "cell_type": "markdown",
   "metadata": {},
   "source": [
    "### Past employees\n",
    "Let's take a look at the past employees at this company.\n",
    "1. How many past employees does this company have?\n",
    "2. Find the ages of new hires. What is the average hire age? Plot the distribution.\n",
    "3. Find the ages of employees when they left the company. What is the average age of employees leaving the company? Plot the distribution.\n",
    "4. Combine the previous two questions to find the time spent at the company by past employees. Any interesting observations?"
   ]
  },
  {
   "cell_type": "markdown",
   "metadata": {},
   "source": [
    "##### 1. How many past employees does this company have?"
   ]
  },
  {
   "cell_type": "code",
   "execution_count": 6,
   "metadata": {},
   "outputs": [
    {
     "data": {
      "text/html": [
       "<div>\n",
       "<style scoped>\n",
       "    .dataframe tbody tr th:only-of-type {\n",
       "        vertical-align: middle;\n",
       "    }\n",
       "\n",
       "    .dataframe tbody tr th {\n",
       "        vertical-align: top;\n",
       "    }\n",
       "\n",
       "    .dataframe thead th {\n",
       "        text-align: right;\n",
       "    }\n",
       "</style>\n",
       "<table border=\"1\" class=\"dataframe\">\n",
       "  <thead>\n",
       "    <tr style=\"text-align: right;\">\n",
       "      <th></th>\n",
       "      <th>emp_no</th>\n",
       "      <th>birth_date</th>\n",
       "      <th>first_name</th>\n",
       "      <th>last_name</th>\n",
       "      <th>gender</th>\n",
       "      <th>hire_date</th>\n",
       "      <th>to_date</th>\n",
       "    </tr>\n",
       "  </thead>\n",
       "  <tbody>\n",
       "    <tr>\n",
       "      <th>0</th>\n",
       "      <td>10008</td>\n",
       "      <td>1958-02-19</td>\n",
       "      <td>Saniya</td>\n",
       "      <td>Kalloufi</td>\n",
       "      <td>M</td>\n",
       "      <td>1994-09-15</td>\n",
       "      <td>2000-07-31</td>\n",
       "    </tr>\n",
       "    <tr>\n",
       "      <th>1</th>\n",
       "      <td>10011</td>\n",
       "      <td>1953-11-07</td>\n",
       "      <td>Mary</td>\n",
       "      <td>Sluis</td>\n",
       "      <td>F</td>\n",
       "      <td>1990-01-22</td>\n",
       "      <td>1996-11-09</td>\n",
       "    </tr>\n",
       "    <tr>\n",
       "      <th>2</th>\n",
       "      <td>10015</td>\n",
       "      <td>1959-08-19</td>\n",
       "      <td>Guoxiang</td>\n",
       "      <td>Nooteboom</td>\n",
       "      <td>M</td>\n",
       "      <td>1987-07-02</td>\n",
       "      <td>1993-08-22</td>\n",
       "    </tr>\n",
       "    <tr>\n",
       "      <th>3</th>\n",
       "      <td>10021</td>\n",
       "      <td>1960-02-20</td>\n",
       "      <td>Ramzi</td>\n",
       "      <td>Erde</td>\n",
       "      <td>M</td>\n",
       "      <td>1988-02-10</td>\n",
       "      <td>2002-07-15</td>\n",
       "    </tr>\n",
       "    <tr>\n",
       "      <th>4</th>\n",
       "      <td>10025</td>\n",
       "      <td>1958-10-31</td>\n",
       "      <td>Prasadram</td>\n",
       "      <td>Heyers</td>\n",
       "      <td>M</td>\n",
       "      <td>1987-08-17</td>\n",
       "      <td>1997-10-15</td>\n",
       "    </tr>\n",
       "  </tbody>\n",
       "</table>\n",
       "</div>"
      ],
      "text/plain": [
       "   emp_no  birth_date first_name  last_name gender   hire_date     to_date\n",
       "0   10008  1958-02-19     Saniya   Kalloufi      M  1994-09-15  2000-07-31\n",
       "1   10011  1953-11-07       Mary      Sluis      F  1990-01-22  1996-11-09\n",
       "2   10015  1959-08-19   Guoxiang  Nooteboom      M  1987-07-02  1993-08-22\n",
       "3   10021  1960-02-20      Ramzi       Erde      M  1988-02-10  2002-07-15\n",
       "4   10025  1958-10-31  Prasadram     Heyers      M  1987-08-17  1997-10-15"
      ]
     },
     "execution_count": 6,
     "metadata": {},
     "output_type": "execute_result"
    }
   ],
   "source": [
    "### Finding employees who have left the company. Current employees have to_date set to '9999-01-01'\n",
    "df = pd.read_sql_query(\"\"\"\n",
    "SELECT employees.*, to_date\n",
    "FROM employees JOIN titles ON employees.emp_no = titles.emp_no\n",
    "GROUP BY employees.emp_no\n",
    "HAVING MAX(to_date) < DATE '9999-01-01';\n",
    "\"\"\", conn)\n",
    "df.head()"
   ]
  },
  {
   "cell_type": "code",
   "execution_count": 8,
   "metadata": {
    "scrolled": true
   },
   "outputs": [
    {
     "data": {
      "text/html": [
       "<div>\n",
       "<style scoped>\n",
       "    .dataframe tbody tr th:only-of-type {\n",
       "        vertical-align: middle;\n",
       "    }\n",
       "\n",
       "    .dataframe tbody tr th {\n",
       "        vertical-align: top;\n",
       "    }\n",
       "\n",
       "    .dataframe thead th {\n",
       "        text-align: right;\n",
       "    }\n",
       "</style>\n",
       "<table border=\"1\" class=\"dataframe\">\n",
       "  <thead>\n",
       "    <tr style=\"text-align: right;\">\n",
       "      <th></th>\n",
       "      <th>COUNT(DISTINCT(emp_no))</th>\n",
       "    </tr>\n",
       "  </thead>\n",
       "  <tbody>\n",
       "    <tr>\n",
       "      <th>0</th>\n",
       "      <td>59900</td>\n",
       "    </tr>\n",
       "  </tbody>\n",
       "</table>\n",
       "</div>"
      ],
      "text/plain": [
       "   COUNT(DISTINCT(emp_no))\n",
       "0                    59900"
      ]
     },
     "execution_count": 8,
     "metadata": {},
     "output_type": "execute_result"
    }
   ],
   "source": [
    "### Finding how many past employees there are\n",
    "pd.read_sql_query(\"\"\"\n",
    "SELECT COUNT(DISTINCT(emp_no))\n",
    "FROM\n",
    "(SELECT employees.*, to_date\n",
    "FROM employees JOIN titles ON employees.emp_no = titles.emp_no\n",
    "GROUP BY employees.emp_no\n",
    "HAVING MAX(to_date) < DATE '9999-01-01') AS a;\n",
    "\"\"\", conn)"
   ]
  },
  {
   "cell_type": "markdown",
   "metadata": {},
   "source": [
    "We find that 59,900 employees have left this company."
   ]
  },
  {
   "cell_type": "markdown",
   "metadata": {},
   "source": [
    "##### 2. Find the ages of new hires. What is the average hire age? Plot the distribution."
   ]
  },
  {
   "cell_type": "code",
   "execution_count": 43,
   "metadata": {},
   "outputs": [
    {
     "data": {
      "text/html": [
       "<div>\n",
       "<style scoped>\n",
       "    .dataframe tbody tr th:only-of-type {\n",
       "        vertical-align: middle;\n",
       "    }\n",
       "\n",
       "    .dataframe tbody tr th {\n",
       "        vertical-align: top;\n",
       "    }\n",
       "\n",
       "    .dataframe thead th {\n",
       "        text-align: right;\n",
       "    }\n",
       "</style>\n",
       "<table border=\"1\" class=\"dataframe\">\n",
       "  <thead>\n",
       "    <tr style=\"text-align: right;\">\n",
       "      <th></th>\n",
       "      <th>emp_no</th>\n",
       "      <th>birth_date</th>\n",
       "      <th>first_name</th>\n",
       "      <th>last_name</th>\n",
       "      <th>gender</th>\n",
       "      <th>hire_date</th>\n",
       "      <th>to_date</th>\n",
       "      <th>leaving_age</th>\n",
       "    </tr>\n",
       "  </thead>\n",
       "  <tbody>\n",
       "    <tr>\n",
       "      <th>0</th>\n",
       "      <td>10008</td>\n",
       "      <td>1958-02-19</td>\n",
       "      <td>Saniya</td>\n",
       "      <td>Kalloufi</td>\n",
       "      <td>M</td>\n",
       "      <td>1994-09-15</td>\n",
       "      <td>2000-07-31</td>\n",
       "      <td>42</td>\n",
       "    </tr>\n",
       "    <tr>\n",
       "      <th>1</th>\n",
       "      <td>10011</td>\n",
       "      <td>1953-11-07</td>\n",
       "      <td>Mary</td>\n",
       "      <td>Sluis</td>\n",
       "      <td>F</td>\n",
       "      <td>1990-01-22</td>\n",
       "      <td>1996-11-09</td>\n",
       "      <td>43</td>\n",
       "    </tr>\n",
       "    <tr>\n",
       "      <th>2</th>\n",
       "      <td>10015</td>\n",
       "      <td>1959-08-19</td>\n",
       "      <td>Guoxiang</td>\n",
       "      <td>Nooteboom</td>\n",
       "      <td>M</td>\n",
       "      <td>1987-07-02</td>\n",
       "      <td>1993-08-22</td>\n",
       "      <td>34</td>\n",
       "    </tr>\n",
       "    <tr>\n",
       "      <th>3</th>\n",
       "      <td>10021</td>\n",
       "      <td>1960-02-20</td>\n",
       "      <td>Ramzi</td>\n",
       "      <td>Erde</td>\n",
       "      <td>M</td>\n",
       "      <td>1988-02-10</td>\n",
       "      <td>2002-07-15</td>\n",
       "      <td>42</td>\n",
       "    </tr>\n",
       "    <tr>\n",
       "      <th>4</th>\n",
       "      <td>10025</td>\n",
       "      <td>1958-10-31</td>\n",
       "      <td>Prasadram</td>\n",
       "      <td>Heyers</td>\n",
       "      <td>M</td>\n",
       "      <td>1987-08-17</td>\n",
       "      <td>1997-10-15</td>\n",
       "      <td>38</td>\n",
       "    </tr>\n",
       "  </tbody>\n",
       "</table>\n",
       "</div>"
      ],
      "text/plain": [
       "   emp_no  birth_date first_name  last_name gender   hire_date     to_date  \\\n",
       "0   10008  1958-02-19     Saniya   Kalloufi      M  1994-09-15  2000-07-31   \n",
       "1   10011  1953-11-07       Mary      Sluis      F  1990-01-22  1996-11-09   \n",
       "2   10015  1959-08-19   Guoxiang  Nooteboom      M  1987-07-02  1993-08-22   \n",
       "3   10021  1960-02-20      Ramzi       Erde      M  1988-02-10  2002-07-15   \n",
       "4   10025  1958-10-31  Prasadram     Heyers      M  1987-08-17  1997-10-15   \n",
       "\n",
       "   leaving_age  \n",
       "0           42  \n",
       "1           43  \n",
       "2           34  \n",
       "3           42  \n",
       "4           38  "
      ]
     },
     "execution_count": 43,
     "metadata": {},
     "output_type": "execute_result"
    }
   ],
   "source": [
    "### Finding the hire age of all employees\n",
    "new_hire = pd.read_sql_query(\"\"\"\n",
    "SELECT employees.emp_no, birth_date, first_name, last_name, gender, hire_date, TIMESTAMPDIFF(YEAR, birth_date, hire_date) AS hire_age\n",
    "FROM employees JOIN titles ON employees.emp_no = titles.emp_no\n",
    "GROUP BY employees.emp_no;\n",
    "\"\"\", conn)\n",
    "df.head()"
   ]
  },
  {
   "cell_type": "code",
   "execution_count": 11,
   "metadata": {},
   "outputs": [
    {
     "data": {
      "text/html": [
       "<div>\n",
       "<style scoped>\n",
       "    .dataframe tbody tr th:only-of-type {\n",
       "        vertical-align: middle;\n",
       "    }\n",
       "\n",
       "    .dataframe tbody tr th {\n",
       "        vertical-align: top;\n",
       "    }\n",
       "\n",
       "    .dataframe thead th {\n",
       "        text-align: right;\n",
       "    }\n",
       "</style>\n",
       "<table border=\"1\" class=\"dataframe\">\n",
       "  <thead>\n",
       "    <tr style=\"text-align: right;\">\n",
       "      <th></th>\n",
       "      <th>AVG(hire_age)</th>\n",
       "    </tr>\n",
       "  </thead>\n",
       "  <tbody>\n",
       "    <tr>\n",
       "      <th>0</th>\n",
       "      <td>30.9972</td>\n",
       "    </tr>\n",
       "  </tbody>\n",
       "</table>\n",
       "</div>"
      ],
      "text/plain": [
       "   AVG(hire_age)\n",
       "0        30.9972"
      ]
     },
     "execution_count": 11,
     "metadata": {},
     "output_type": "execute_result"
    }
   ],
   "source": [
    "### Finding the average hire age\n",
    "pd.read_sql_query(\"\"\"\n",
    "SELECT AVG(hire_age)\n",
    "FROM\n",
    "(SELECT employees.emp_no, birth_date, first_name, last_name, gender, hire_date, TIMESTAMPDIFF(YEAR, birth_date, hire_date) AS hire_age\n",
    "FROM employees JOIN titles ON employees.emp_no = titles.emp_no\n",
    "GROUP BY employees.emp_no) AS a;\n",
    "\"\"\", conn)"
   ]
  },
  {
   "cell_type": "markdown",
   "metadata": {},
   "source": [
    "We find that employees are hired at an average age of approximately 31 years old."
   ]
  },
  {
   "cell_type": "code",
   "execution_count": 46,
   "metadata": {
    "scrolled": false
   },
   "outputs": [
    {
     "data": {
      "image/png": "[encoded data removed]",
      "text/plain": [
       "<Figure size 432x288 with 1 Axes>"
      ]
     },
     "metadata": {},
     "output_type": "display_data"
    }
   ],
   "source": [
    "### Plot the distribution of ages for new hires\n",
    "a = plt.hist(new_hire['hire_age'], bins = (max(new_hire['hire_age']) - min(new_hire['hire_age'])))"
   ]
  },
  {
   "cell_type": "code",
   "execution_count": 41,
   "metadata": {},
   "outputs": [
    {
     "data": {
      "text/plain": [
       "(array([ 1461.,  4410.,  7059.,  9319., 11666., 14004., 15477., 17389.,\n",
       "        18849., 19995., 20882., 21984., 22357., 21700., 18577., 16190.,\n",
       "        13483., 11326.,  9188.,  7339.,  5765.,  4323.,  3067.,  2037.,\n",
       "         1266.,   631.,   280.]),\n",
       " array([20., 21., 22., 23., 24., 25., 26., 27., 28., 29., 30., 31., 32.,\n",
       "        33., 34., 35., 36., 37., 38., 39., 40., 41., 42., 43., 44., 45.,\n",
       "        46., 47.]),\n",
       " <a list of 27 Patch objects>)"
      ]
     },
     "execution_count": 41,
     "metadata": {},
     "output_type": "execute_result"
    }
   ],
   "source": [
    "new_hire"
   ]
  },
  {
   "cell_type": "markdown",
   "metadata": {},
   "source": [
    "##### 3. Find the ages of employees when they left the company. What is the average age of employees leaving the company? Plot the distribution."
   ]
  },
  {
   "cell_type": "code",
   "execution_count": 48,
   "metadata": {},
   "outputs": [
    {
     "data": {
      "text/html": [
       "<div>\n",
       "<style scoped>\n",
       "    .dataframe tbody tr th:only-of-type {\n",
       "        vertical-align: middle;\n",
       "    }\n",
       "\n",
       "    .dataframe tbody tr th {\n",
       "        vertical-align: top;\n",
       "    }\n",
       "\n",
       "    .dataframe thead th {\n",
       "        text-align: right;\n",
       "    }\n",
       "</style>\n",
       "<table border=\"1\" class=\"dataframe\">\n",
       "  <thead>\n",
       "    <tr style=\"text-align: right;\">\n",
       "      <th></th>\n",
       "      <th>emp_no</th>\n",
       "      <th>birth_date</th>\n",
       "      <th>first_name</th>\n",
       "      <th>last_name</th>\n",
       "      <th>gender</th>\n",
       "      <th>hire_date</th>\n",
       "      <th>to_date</th>\n",
       "      <th>leaving_age</th>\n",
       "    </tr>\n",
       "  </thead>\n",
       "  <tbody>\n",
       "    <tr>\n",
       "      <th>0</th>\n",
       "      <td>10008</td>\n",
       "      <td>1958-02-19</td>\n",
       "      <td>Saniya</td>\n",
       "      <td>Kalloufi</td>\n",
       "      <td>M</td>\n",
       "      <td>1994-09-15</td>\n",
       "      <td>2000-07-31</td>\n",
       "      <td>42</td>\n",
       "    </tr>\n",
       "    <tr>\n",
       "      <th>1</th>\n",
       "      <td>10011</td>\n",
       "      <td>1953-11-07</td>\n",
       "      <td>Mary</td>\n",
       "      <td>Sluis</td>\n",
       "      <td>F</td>\n",
       "      <td>1990-01-22</td>\n",
       "      <td>1996-11-09</td>\n",
       "      <td>43</td>\n",
       "    </tr>\n",
       "    <tr>\n",
       "      <th>2</th>\n",
       "      <td>10015</td>\n",
       "      <td>1959-08-19</td>\n",
       "      <td>Guoxiang</td>\n",
       "      <td>Nooteboom</td>\n",
       "      <td>M</td>\n",
       "      <td>1987-07-02</td>\n",
       "      <td>1993-08-22</td>\n",
       "      <td>34</td>\n",
       "    </tr>\n",
       "    <tr>\n",
       "      <th>3</th>\n",
       "      <td>10021</td>\n",
       "      <td>1960-02-20</td>\n",
       "      <td>Ramzi</td>\n",
       "      <td>Erde</td>\n",
       "      <td>M</td>\n",
       "      <td>1988-02-10</td>\n",
       "      <td>2002-07-15</td>\n",
       "      <td>42</td>\n",
       "    </tr>\n",
       "    <tr>\n",
       "      <th>4</th>\n",
       "      <td>10025</td>\n",
       "      <td>1958-10-31</td>\n",
       "      <td>Prasadram</td>\n",
       "      <td>Heyers</td>\n",
       "      <td>M</td>\n",
       "      <td>1987-08-17</td>\n",
       "      <td>1997-10-15</td>\n",
       "      <td>38</td>\n",
       "    </tr>\n",
       "  </tbody>\n",
       "</table>\n",
       "</div>"
      ],
      "text/plain": [
       "   emp_no  birth_date first_name  last_name gender   hire_date     to_date  \\\n",
       "0   10008  1958-02-19     Saniya   Kalloufi      M  1994-09-15  2000-07-31   \n",
       "1   10011  1953-11-07       Mary      Sluis      F  1990-01-22  1996-11-09   \n",
       "2   10015  1959-08-19   Guoxiang  Nooteboom      M  1987-07-02  1993-08-22   \n",
       "3   10021  1960-02-20      Ramzi       Erde      M  1988-02-10  2002-07-15   \n",
       "4   10025  1958-10-31  Prasadram     Heyers      M  1987-08-17  1997-10-15   \n",
       "\n",
       "   leaving_age  \n",
       "0           42  \n",
       "1           43  \n",
       "2           34  \n",
       "3           42  \n",
       "4           38  "
      ]
     },
     "execution_count": 48,
     "metadata": {},
     "output_type": "execute_result"
    }
   ],
   "source": [
    "### Finding the age of employees when they left the company\n",
    "past_employees = pd.read_sql_query(\"\"\"\n",
    "SELECT employees.*, to_date, TIMESTAMPDIFF(YEAR, birth_date, to_date) AS leaving_age\n",
    "FROM employees JOIN titles ON employees.emp_no = titles.emp_no\n",
    "GROUP BY employees.emp_no\n",
    "HAVING MAX(to_date) < '9999-01-01';\n",
    "\"\"\", conn)\n",
    "df.head()"
   ]
  },
  {
   "cell_type": "code",
   "execution_count": 19,
   "metadata": {},
   "outputs": [
    {
     "data": {
      "text/html": [
       "<div>\n",
       "<style scoped>\n",
       "    .dataframe tbody tr th:only-of-type {\n",
       "        vertical-align: middle;\n",
       "    }\n",
       "\n",
       "    .dataframe tbody tr th {\n",
       "        vertical-align: top;\n",
       "    }\n",
       "\n",
       "    .dataframe thead th {\n",
       "        text-align: right;\n",
       "    }\n",
       "</style>\n",
       "<table border=\"1\" class=\"dataframe\">\n",
       "  <thead>\n",
       "    <tr style=\"text-align: right;\">\n",
       "      <th></th>\n",
       "      <th>AVG(leaving_age)</th>\n",
       "    </tr>\n",
       "  </thead>\n",
       "  <tbody>\n",
       "    <tr>\n",
       "      <th>0</th>\n",
       "      <td>37.9825</td>\n",
       "    </tr>\n",
       "  </tbody>\n",
       "</table>\n",
       "</div>"
      ],
      "text/plain": [
       "   AVG(leaving_age)\n",
       "0           37.9825"
      ]
     },
     "execution_count": 19,
     "metadata": {},
     "output_type": "execute_result"
    }
   ],
   "source": [
    "### Finding the average age of employees who left the company\n",
    "pd.read_sql_query(\"\"\"\n",
    "SELECT AVG(leaving_age)\n",
    "FROM\n",
    "(SELECT employees.*, to_date, TIMESTAMPDIFF(YEAR, birth_date, to_date) AS leaving_age\n",
    "FROM employees JOIN titles ON employees.emp_no = titles.emp_no\n",
    "GROUP BY employees.emp_no\n",
    "HAVING MAX(to_date) < '9999-01-01') AS a;\n",
    "\"\"\", conn)"
   ]
  },
  {
   "cell_type": "markdown",
   "metadata": {},
   "source": [
    "We find that on average employees leave when they are approximately 38 years old."
   ]
  },
  {
   "cell_type": "code",
   "execution_count": 49,
   "metadata": {
    "scrolled": false
   },
   "outputs": [
    {
     "data": {
      "image/png": "[encoded data removed]",
      "text/plain": [
       "<Figure size 432x288 with 1 Axes>"
      ]
     },
     "metadata": {},
     "output_type": "display_data"
    }
   ],
   "source": [
    "### Plot the distribution of ages for employees who have left\n",
    "a = plt.hist(past_employees['leaving_age'], bins = (max(past_employees['leaving_age']) - min(past_employees['leaving_age'])))"
   ]
  },
  {
   "cell_type": "markdown",
   "metadata": {},
   "source": [
    "Let's take a look at the distribution of ages for new and past employees."
   ]
  },
  {
   "cell_type": "code",
   "execution_count": 64,
   "metadata": {
    "scrolled": false
   },
   "outputs": [
    {
     "data": {
      "image/png": "[encoded data removed]",
      "text/plain": [
       "<Figure size 432x288 with 1 Axes>"
      ]
     },
     "metadata": {},
     "output_type": "display_data"
    }
   ],
   "source": [
    "### Both distributions\n",
    "a = plt.hist(new_hire['hire_age'], bins = (max(new_hire['hire_age']) - min(new_hire['hire_age'])))\n",
    "a = plt.hist(past_employees['leaving_age'], bins = (max(past_employees['leaving_age']) - min(past_employees['leaving_age'])))"
   ]
  },
  {
   "cell_type": "markdown",
   "metadata": {},
   "source": [
    "We see that there are a lot more new hires compared to employees leaving the company. This could indicate that the company has grown significantly."
   ]
  },
  {
   "cell_type": "markdown",
   "metadata": {},
   "source": [
    "##### 4. Combine the previous two questions to find the time spent at the company by past employees. Any interesting observations?"
   ]
  },
  {
   "cell_type": "code",
   "execution_count": 7,
   "metadata": {
    "scrolled": false
   },
   "outputs": [
    {
     "data": {
      "text/html": [
       "<div>\n",
       "<style scoped>\n",
       "    .dataframe tbody tr th:only-of-type {\n",
       "        vertical-align: middle;\n",
       "    }\n",
       "\n",
       "    .dataframe tbody tr th {\n",
       "        vertical-align: top;\n",
       "    }\n",
       "\n",
       "    .dataframe thead th {\n",
       "        text-align: right;\n",
       "    }\n",
       "</style>\n",
       "<table border=\"1\" class=\"dataframe\">\n",
       "  <thead>\n",
       "    <tr style=\"text-align: right;\">\n",
       "      <th></th>\n",
       "      <th>emp_no</th>\n",
       "      <th>birth_date</th>\n",
       "      <th>first_name</th>\n",
       "      <th>last_name</th>\n",
       "      <th>gender</th>\n",
       "      <th>hire_date</th>\n",
       "      <th>hire_age</th>\n",
       "      <th>to_date</th>\n",
       "      <th>leaving_age</th>\n",
       "      <th>time_at_company</th>\n",
       "      <th>company_days</th>\n",
       "    </tr>\n",
       "  </thead>\n",
       "  <tbody>\n",
       "    <tr>\n",
       "      <th>0</th>\n",
       "      <td>10008</td>\n",
       "      <td>1958-02-19</td>\n",
       "      <td>Saniya</td>\n",
       "      <td>Kalloufi</td>\n",
       "      <td>M</td>\n",
       "      <td>1994-09-15</td>\n",
       "      <td>36</td>\n",
       "      <td>2000-07-31</td>\n",
       "      <td>42</td>\n",
       "      <td>5 years, 10 months</td>\n",
       "      <td>2146</td>\n",
       "    </tr>\n",
       "    <tr>\n",
       "      <th>1</th>\n",
       "      <td>10011</td>\n",
       "      <td>1953-11-07</td>\n",
       "      <td>Mary</td>\n",
       "      <td>Sluis</td>\n",
       "      <td>F</td>\n",
       "      <td>1990-01-22</td>\n",
       "      <td>36</td>\n",
       "      <td>1996-11-09</td>\n",
       "      <td>43</td>\n",
       "      <td>6 years, 9 months</td>\n",
       "      <td>2483</td>\n",
       "    </tr>\n",
       "    <tr>\n",
       "      <th>2</th>\n",
       "      <td>10015</td>\n",
       "      <td>1959-08-19</td>\n",
       "      <td>Guoxiang</td>\n",
       "      <td>Nooteboom</td>\n",
       "      <td>M</td>\n",
       "      <td>1987-07-02</td>\n",
       "      <td>27</td>\n",
       "      <td>1993-08-22</td>\n",
       "      <td>34</td>\n",
       "      <td>6 years, 1 months</td>\n",
       "      <td>2243</td>\n",
       "    </tr>\n",
       "    <tr>\n",
       "      <th>3</th>\n",
       "      <td>10021</td>\n",
       "      <td>1960-02-20</td>\n",
       "      <td>Ramzi</td>\n",
       "      <td>Erde</td>\n",
       "      <td>M</td>\n",
       "      <td>1988-02-10</td>\n",
       "      <td>27</td>\n",
       "      <td>2002-07-15</td>\n",
       "      <td>42</td>\n",
       "      <td>14 years, 5 months</td>\n",
       "      <td>5269</td>\n",
       "    </tr>\n",
       "    <tr>\n",
       "      <th>4</th>\n",
       "      <td>10025</td>\n",
       "      <td>1958-10-31</td>\n",
       "      <td>Prasadram</td>\n",
       "      <td>Heyers</td>\n",
       "      <td>M</td>\n",
       "      <td>1987-08-17</td>\n",
       "      <td>28</td>\n",
       "      <td>1997-10-15</td>\n",
       "      <td>38</td>\n",
       "      <td>10 years, 1 months</td>\n",
       "      <td>3712</td>\n",
       "    </tr>\n",
       "  </tbody>\n",
       "</table>\n",
       "</div>"
      ],
      "text/plain": [
       "   emp_no  birth_date first_name  last_name gender   hire_date  hire_age  \\\n",
       "0   10008  1958-02-19     Saniya   Kalloufi      M  1994-09-15        36   \n",
       "1   10011  1953-11-07       Mary      Sluis      F  1990-01-22        36   \n",
       "2   10015  1959-08-19   Guoxiang  Nooteboom      M  1987-07-02        27   \n",
       "3   10021  1960-02-20      Ramzi       Erde      M  1988-02-10        27   \n",
       "4   10025  1958-10-31  Prasadram     Heyers      M  1987-08-17        28   \n",
       "\n",
       "      to_date  leaving_age     time_at_company  company_days  \n",
       "0  2000-07-31           42  5 years, 10 months          2146  \n",
       "1  1996-11-09           43   6 years, 9 months          2483  \n",
       "2  1993-08-22           34   6 years, 1 months          2243  \n",
       "3  2002-07-15           42  14 years, 5 months          5269  \n",
       "4  1997-10-15           38  10 years, 1 months          3712  "
      ]
     },
     "execution_count": 7,
     "metadata": {},
     "output_type": "execute_result"
    }
   ],
   "source": [
    "### Finding past employees of this company and their ages at hire and their last day\n",
    "df = pd.read_sql_query(\"\"\"\n",
    "SELECT a.*, b.to_date, b.leaving_age, CONCAT(TIMESTAMPDIFF(YEAR, a.hire_date, b.to_date), ' years, ', MOD(TIMESTAMPDIFF(MONTH, a.hire_date, b.to_date), 12), ' months') AS time_at_company, TIMESTAMPDIFF(DAY, a.hire_date, b.to_date) AS company_days\n",
    "FROM\n",
    "(SELECT employees.emp_no, birth_date, first_name, last_name, gender, hire_date, TIMESTAMPDIFF(YEAR, birth_date, hire_date) AS hire_age\n",
    "FROM employees JOIN titles ON employees.emp_no = titles.emp_no\n",
    "GROUP BY employees.emp_no) AS a\n",
    "INNER JOIN\n",
    "(SELECT employees.*, from_date, to_date, TIMESTAMPDIFF(YEAR, birth_date, to_date) AS leaving_age\n",
    "FROM employees JOIN titles ON employees.emp_no = titles.emp_no\n",
    "GROUP BY employees.emp_no\n",
    "HAVING MAX(to_date) < '9999-01-01') AS b ON a.emp_no = b.emp_no;\n",
    "\"\"\", conn)\n",
    "df.head()"
   ]
  },
  {
   "cell_type": "markdown",
   "metadata": {},
   "source": [
    "Let's take a look at the distribution of time past employees have worked at the company."
   ]
  },
  {
   "cell_type": "code",
   "execution_count": 17,
   "metadata": {
    "scrolled": true
   },
   "outputs": [
    {
     "data": {
      "image/png": "[encoded data removed]",
      "text/plain": [
       "<Figure size 432x288 with 1 Axes>"
      ]
     },
     "metadata": {},
     "output_type": "display_data"
    }
   ],
   "source": [
    "### Plotting the distribution with a line at the peak\n",
    "p = sns.kdeplot(df['company_days'])\n",
    "x,y = p.get_lines()[0].get_data()\n",
    "index = np.argmax(y)\n",
    "plt.vlines(x[index], 0, y[index])\n",
    "plt.show()"
   ]
  },
  {
   "cell_type": "code",
   "execution_count": 24,
   "metadata": {},
   "outputs": [
    {
     "data": {
      "text/html": [
       "<div>\n",
       "<style scoped>\n",
       "    .dataframe tbody tr th:only-of-type {\n",
       "        vertical-align: middle;\n",
       "    }\n",
       "\n",
       "    .dataframe tbody tr th {\n",
       "        vertical-align: top;\n",
       "    }\n",
       "\n",
       "    .dataframe thead th {\n",
       "        text-align: right;\n",
       "    }\n",
       "</style>\n",
       "<table border=\"1\" class=\"dataframe\">\n",
       "  <thead>\n",
       "    <tr style=\"text-align: right;\">\n",
       "      <th></th>\n",
       "      <th>MIN(company_days)</th>\n",
       "      <th>MAX(company_days)</th>\n",
       "      <th>AVG(company_days)</th>\n",
       "    </tr>\n",
       "  </thead>\n",
       "  <tbody>\n",
       "    <tr>\n",
       "      <th>0</th>\n",
       "      <td>0</td>\n",
       "      <td>6388</td>\n",
       "      <td>2555.3828</td>\n",
       "    </tr>\n",
       "  </tbody>\n",
       "</table>\n",
       "</div>"
      ],
      "text/plain": [
       "   MIN(company_days)  MAX(company_days)  AVG(company_days)\n",
       "0                  0               6388          2555.3828"
      ]
     },
     "execution_count": 24,
     "metadata": {},
     "output_type": "execute_result"
    }
   ],
   "source": [
    "# Summary statistics on days spent at the company\n",
    "pd.read_sql_query(\"\"\"\n",
    "SELECT MIN(company_days), MAX(company_days), AVG(company_days)\n",
    "FROM\n",
    "(SELECT a.*, b.to_date, b.leaving_age, CONCAT(TIMESTAMPDIFF(YEAR, a.hire_date, b.to_date), ' years, ', MOD(TIMESTAMPDIFF(MONTH, a.hire_date, b.to_date), 12), ' months') AS time_at_company, TIMESTAMPDIFF(DAY, a.hire_date, b.to_date) AS company_days\n",
    "FROM\n",
    "(SELECT employees.emp_no, birth_date, first_name, last_name, gender, hire_date, TIMESTAMPDIFF(YEAR, birth_date, hire_date) AS hire_age\n",
    "FROM employees JOIN titles ON employees.emp_no = titles.emp_no\n",
    "GROUP BY employees.emp_no) AS a\n",
    "INNER JOIN\n",
    "(SELECT employees.*, from_date, to_date, TIMESTAMPDIFF(YEAR, birth_date, to_date) AS leaving_age\n",
    "FROM employees JOIN titles ON employees.emp_no = titles.emp_no\n",
    "GROUP BY employees.emp_no\n",
    "HAVING MAX(to_date) < '9999-01-01') AS b ON a.emp_no = b.emp_no) AS c;\n",
    "\"\"\", conn)"
   ]
  },
  {
   "cell_type": "markdown",
   "metadata": {},
   "source": [
    "We see that peak density occurs at approximately 1880 days. On average employees spend approximately 2555 days working at the company with the maximum being 6388 days (about 17 years, 5 months). Some employees have worked less than a full day."
   ]
  }
 ],
 "metadata": {
  "kernelspec": {
   "display_name": "Python 3",
   "language": "python",
   "name": "python3"
  },
  "language_info": {
   "codemirror_mode": {
    "name": "ipython",
    "version": 3
   },
   "file_extension": ".py",
   "mimetype": "text/x-python",
   "name": "python",
   "nbconvert_exporter": "python",
   "pygments_lexer": "ipython3",
   "version": "3.6.5"
  }
 },
 "nbformat": 4,
 "nbformat_minor": 2
}
